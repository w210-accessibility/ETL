{
 "cells": [
  {
   "cell_type": "code",
   "execution_count": 1,
   "metadata": {},
   "outputs": [],
   "source": [
    "import os\n",
    "import urllib\n",
    "import pandas as pd\n",
    "import xml.etree.ElementTree as ET\n",
    "import platform\n",
    "from time import sleep\n",
    "from subprocess import call, check_output\n",
    "import s3fs\n",
    "import boto3"
   ]
  },
  {
   "cell_type": "code",
   "execution_count": 2,
   "metadata": {},
   "outputs": [
    {
     "data": {
      "text/html": [
       "<div>\n",
       "<style scoped>\n",
       "    .dataframe tbody tr th:only-of-type {\n",
       "        vertical-align: middle;\n",
       "    }\n",
       "\n",
       "    .dataframe tbody tr th {\n",
       "        vertical-align: top;\n",
       "    }\n",
       "\n",
       "    .dataframe thead th {\n",
       "        text-align: right;\n",
       "    }\n",
       "</style>\n",
       "<table border=\"1\" class=\"dataframe\">\n",
       "  <thead>\n",
       "    <tr style=\"text-align: right;\">\n",
       "      <th></th>\n",
       "      <th>date</th>\n",
       "      <th>lat</th>\n",
       "      <th>long</th>\n",
       "      <th>pano_id</th>\n",
       "      <th>name</th>\n",
       "    </tr>\n",
       "  </thead>\n",
       "  <tbody>\n",
       "    <tr>\n",
       "      <th>0</th>\n",
       "      <td>2019-06</td>\n",
       "      <td>42.957503</td>\n",
       "      <td>-87.938367</td>\n",
       "      <td>XPRpjNDhowVo8zvqvSU1CA</td>\n",
       "      <td>1.json</td>\n",
       "    </tr>\n",
       "    <tr>\n",
       "      <th>1</th>\n",
       "      <td>2016-10</td>\n",
       "      <td>42.899259</td>\n",
       "      <td>-88.047098</td>\n",
       "      <td>iEyn0apLSZvl4i4alUbfcA</td>\n",
       "      <td>10.json</td>\n",
       "    </tr>\n",
       "    <tr>\n",
       "      <th>2</th>\n",
       "      <td>2011-08</td>\n",
       "      <td>42.921614</td>\n",
       "      <td>-87.881025</td>\n",
       "      <td>1BzC3WoFeJ8U1aUT9Hx8mg</td>\n",
       "      <td>100.json</td>\n",
       "    </tr>\n",
       "    <tr>\n",
       "      <th>3</th>\n",
       "      <td>2018-09</td>\n",
       "      <td>43.050123</td>\n",
       "      <td>-88.040263</td>\n",
       "      <td>oRN5vilebPS0srDXRPylzw</td>\n",
       "      <td>1000.json</td>\n",
       "    </tr>\n",
       "    <tr>\n",
       "      <th>4</th>\n",
       "      <td>2019-05</td>\n",
       "      <td>42.959289</td>\n",
       "      <td>-88.026043</td>\n",
       "      <td>KimNSirhP1TzngZkSpc8UA</td>\n",
       "      <td>10000.json</td>\n",
       "    </tr>\n",
       "  </tbody>\n",
       "</table>\n",
       "</div>"
      ],
      "text/plain": [
       "      date        lat       long                 pano_id        name\n",
       "0  2019-06  42.957503 -87.938367  XPRpjNDhowVo8zvqvSU1CA      1.json\n",
       "1  2016-10  42.899259 -88.047098  iEyn0apLSZvl4i4alUbfcA     10.json\n",
       "2  2011-08  42.921614 -87.881025  1BzC3WoFeJ8U1aUT9Hx8mg    100.json\n",
       "3  2018-09  43.050123 -88.040263  oRN5vilebPS0srDXRPylzw   1000.json\n",
       "4  2019-05  42.959289 -88.026043  KimNSirhP1TzngZkSpc8UA  10000.json"
      ]
     },
     "execution_count": 2,
     "metadata": {},
     "output_type": "execute_result"
    }
   ],
   "source": [
    "meta_df = pd.read_csv('gsv_metadata.csv', index_col = 0)\n",
    "meta_df.head()"
   ]
  },
  {
   "cell_type": "code",
   "execution_count": 3,
   "metadata": {},
   "outputs": [
    {
     "data": {
      "text/plain": [
       "'XPRpjNDhowVo8zvqvSU1CA'"
      ]
     },
     "execution_count": 3,
     "metadata": {},
     "output_type": "execute_result"
    }
   ],
   "source": [
    "pano_ids = list(meta_df.pano_id.values)\n",
    "pano_ids[0]"
   ]
  },
  {
   "cell_type": "code",
   "execution_count": 30,
   "metadata": {},
   "outputs": [],
   "source": [
    "def get_pano_metadata(pano_ids, target_dir, delay=1000., save_as_file=True, verbose=False):\n",
    "    \"\"\"\n",
    "    This function collects Google Street View panorama metadata that corresponds to the nearest GSV panoramas.\n",
    "    E.g.,\n",
    "    http://cbk0.google.com/cbk?output=xml&ll=51.494966,-0.146674\n",
    "    \"\"\"\n",
    "\n",
    "\n",
    "    if type(pano_ids) != list:\n",
    "        raise ValueError('pano_ids must be a list of GSV panorama ids')\n",
    "\n",
    "    api_header = 'http://cbk0.google.com/cbk?output=xml'\n",
    "    for pano_id in pano_ids:\n",
    "        if verbose:\n",
    "            print('-- Extracting metadata for', pano_id, '...',)\n",
    "        # Check if the directory exists. Then check if the file already exists and skip if it does.\n",
    "        # Check file: http://stackoverflow.com/questions/82831/how-do-i-check-if-a-file-exists-using-python\n",
    "        if not os.path.exists(target_dir + '/'):\n",
    "            print('Invalid target directory')\n",
    "            break\n",
    "        if os.path.isfile(target_dir + '/' + pano_id + '.xml'):\n",
    "            if verbose:\n",
    "                print('File already exists.')\n",
    "            continue\n",
    "\n",
    "        url = api_header + '&panoid=' + pano_id\n",
    "        try:\n",
    "            req = urllib.request.urlopen(url)\n",
    "        except:\n",
    "            print(pano_id)\n",
    "            continue\n",
    "\n",
    "        if save_as_file:\n",
    "\n",
    "            with open(target_dir + '/' + pano_id + '.xml', 'wb') as my_file:\n",
    "                for line in req:\n",
    "                    my_file.write(line)"
   ]
  },
  {
   "cell_type": "code",
   "execution_count": 31,
   "metadata": {},
   "outputs": [
    {
     "name": "stdout",
     "output_type": "stream",
     "text": [
      "CAoSLEFGMVFpcE8yX0g1NFRlT3V2YXFsMm5sSGNJV1haNnZSNTNseEc3VEtaeVZf\n",
      "CAoSLEFGMVFpcE5fWmlJWWdvaXg5dUtsamVFTG5WSExlQ1djT2E4ckhOV1dGTzYz\n",
      "CAoSLEFGMVFpcFBDbGlycVhCTUdRMHcycnFmQUEzUnJ1Q1JZak5kbHhxVVhWOEwt\n",
      "CAoSLEFGMVFpcE1aY2ZnMm05OXQxOG9GMU9aMnl4c3ZWQmFzN1pzdjJ1Y2l4Xy0y\n",
      "CAoSLEFGMVFpcE1VSlRYSzdBVGptOHdJN2gycExBM3JmX0xhWUZsdjRjVWd5VVJp\n",
      "CAoSLEFGMVFpcFBoNmFUbldwNV9yUzBsUWphRVIydGxiazFrWkJxY0taZ0Q5LTZR\n",
      "CAoSLEFGMVFpcE94eHVUWlpEV2dpV1JzYkNjUWUyMEdMN01CV2NkSWZlVDAwQ2hl\n",
      "CAoSLEFGMVFpcE9RNm1pUWxUdk80a0lsMDYzeGVHVW80SmVNVXN4dVR0bVl4aWJi\n",
      "CAoSLEFGMVFpcE1ReUdTVHkxSldMbEdzUUFqVzIwQk1zZHRMWjFfQmUzZW9rNnc3\n",
      "CAoSLEFGMVFpcE9RR2xHN25BclJtVFkxV3FWR3d0Nm9GYWhZM2RpRHh5cXZXVFd4\n",
      "CAoSLEFGMVFpcE01LTdzazZsQkN0ZDhITG5FeDRCaTNtVTJYN1pxblNONmpnckx4\n",
      "CAoSLEFGMVFpcE50YW1yV0FhakVUejZzMXU1VHlFM240NGpZbXNqUE1IclkyNXpY\n"
     ]
    }
   ],
   "source": [
    "target_dir = 'C:/Users/amybr/Desktop/W210_Capstone/meta'\n",
    "get_pano_metadata(pano_ids[11737:],target_dir,verbose=False)"
   ]
  },
  {
   "cell_type": "code",
   "execution_count": 35,
   "metadata": {},
   "outputs": [
    {
     "name": "stdout",
     "output_type": "stream",
     "text": [
      "data_properties {'image_width': '13312', 'image_height': '6656', 'tile_width': '512', 'tile_height': '512', 'image_date': '2018-09', 'pano_id': '--C5MmrcW22n89eUxitDmQ', 'imagery_type': '1', 'num_zoom_levels': '5', 'lat': '42.999103', 'lng': '-88.017385', 'original_lat': '42.999100', 'original_lng': '-88.017324', 'elevation_wgs84_m': '191.661326', 'elevation_egm96_m': '226.872726'}\n",
      "projection_properties {'projection_type': 'spherical', 'pano_yaw_deg': '0.5', 'tilt_yaw_deg': '-77.75', 'tilt_pitch_deg': '1.87'}\n",
      "annotation_properties {}\n"
     ]
    }
   ],
   "source": [
    "for filename in os.listdir(target_dir):\n",
    "    tree = ET.parse(target_dir + \"/\" + filename)\n",
    "    proj_properties = tree.findall('./projection_properties')\n",
    "    pano_yaw_deg = proj_properties[0].get('pano_yaw_deg')\n",
    "    tilt_yaw_deg = proj_properties[0].get('tilt_yaw_deg')\n",
    "    tilt_pitch_deg = proj_properties[0].get('tilt_pitch_deg')"
   ]
  },
  {
   "cell_type": "code",
   "execution_count": 55,
   "metadata": {},
   "outputs": [
    {
     "data": {
      "text/plain": [
       "'0.5'"
      ]
     },
     "execution_count": 55,
     "metadata": {},
     "output_type": "execute_result"
    }
   ],
   "source": [
    "proj_properties = tree.findall('./projection_properties')\n",
    "proj_properties[0].get('pano_yaw_deg')"
   ]
  },
  {
   "cell_type": "code",
   "execution_count": 56,
   "metadata": {},
   "outputs": [],
   "source": [
    "# Now extract all the metadata and combine\n",
    "pano_yaw, tilt_yaw, tilt_pitch = [],[],[]\n",
    "\n",
    "for ix,row in meta_df.iterrows():\n",
    "    pano_id = row.pano_id\n",
    "    \n",
    "    try:\n",
    "        tree = ET.parse(target_dir + \"/\" + pano_id + '.xml')\n",
    "    except:\n",
    "        pano_yaw.append(None)\n",
    "        tilt_yaw.append(None)\n",
    "        tilt_pitch.append(None)\n",
    "        continue\n",
    "        \n",
    "    proj_properties = tree.findall('./projection_properties')\n",
    "    \n",
    "    pano_yaw.append(proj_properties[0].get('pano_yaw_deg'))\n",
    "    tilt_yaw.append(proj_properties[0].get('tilt_yaw_deg'))\n",
    "    tilt_pitch.append(proj_properties[0].get('tilt_pitch_deg'))\n",
    "\n",
    "meta_df['pano_yaw_deg'] = pano_yaw\n",
    "meta_df['tilt_yaw_deg'] = tilt_yaw\n",
    "meta_df['tilt_pitch_deg'] = tilt_pitch   "
   ]
  },
  {
   "cell_type": "code",
   "execution_count": 58,
   "metadata": {},
   "outputs": [],
   "source": [
    "# strip the .json off of each name\n",
    "meta_df['name'] = [x[:-5] for x in meta_df.name.values]"
   ]
  },
  {
   "cell_type": "code",
   "execution_count": 59,
   "metadata": {},
   "outputs": [
    {
     "data": {
      "text/html": [
       "<div>\n",
       "<style scoped>\n",
       "    .dataframe tbody tr th:only-of-type {\n",
       "        vertical-align: middle;\n",
       "    }\n",
       "\n",
       "    .dataframe tbody tr th {\n",
       "        vertical-align: top;\n",
       "    }\n",
       "\n",
       "    .dataframe thead th {\n",
       "        text-align: right;\n",
       "    }\n",
       "</style>\n",
       "<table border=\"1\" class=\"dataframe\">\n",
       "  <thead>\n",
       "    <tr style=\"text-align: right;\">\n",
       "      <th></th>\n",
       "      <th>date</th>\n",
       "      <th>lat</th>\n",
       "      <th>long</th>\n",
       "      <th>pano_id</th>\n",
       "      <th>name</th>\n",
       "      <th>pano_yaw_deg</th>\n",
       "      <th>tilt_yaw_deg</th>\n",
       "      <th>tilt_pitch_deg</th>\n",
       "    </tr>\n",
       "  </thead>\n",
       "  <tbody>\n",
       "    <tr>\n",
       "      <td>0</td>\n",
       "      <td>2019-06</td>\n",
       "      <td>42.957503</td>\n",
       "      <td>-87.938367</td>\n",
       "      <td>XPRpjNDhowVo8zvqvSU1CA</td>\n",
       "      <td>1</td>\n",
       "      <td>91.979996</td>\n",
       "      <td>125.04</td>\n",
       "      <td>0.83</td>\n",
       "    </tr>\n",
       "    <tr>\n",
       "      <td>1</td>\n",
       "      <td>2016-10</td>\n",
       "      <td>42.899259</td>\n",
       "      <td>-88.047098</td>\n",
       "      <td>iEyn0apLSZvl4i4alUbfcA</td>\n",
       "      <td>10</td>\n",
       "      <td>145.81999</td>\n",
       "      <td>-178.26999</td>\n",
       "      <td>1.06</td>\n",
       "    </tr>\n",
       "    <tr>\n",
       "      <td>2</td>\n",
       "      <td>2011-08</td>\n",
       "      <td>42.921614</td>\n",
       "      <td>-87.881025</td>\n",
       "      <td>1BzC3WoFeJ8U1aUT9Hx8mg</td>\n",
       "      <td>100</td>\n",
       "      <td>359.18</td>\n",
       "      <td>30.769999</td>\n",
       "      <td>2.55</td>\n",
       "    </tr>\n",
       "    <tr>\n",
       "      <td>3</td>\n",
       "      <td>2018-09</td>\n",
       "      <td>43.050123</td>\n",
       "      <td>-88.040263</td>\n",
       "      <td>oRN5vilebPS0srDXRPylzw</td>\n",
       "      <td>1000</td>\n",
       "      <td>161.11</td>\n",
       "      <td>67.549995</td>\n",
       "      <td>1.5699999</td>\n",
       "    </tr>\n",
       "    <tr>\n",
       "      <td>4</td>\n",
       "      <td>2019-05</td>\n",
       "      <td>42.959289</td>\n",
       "      <td>-88.026043</td>\n",
       "      <td>KimNSirhP1TzngZkSpc8UA</td>\n",
       "      <td>10000</td>\n",
       "      <td>270.06</td>\n",
       "      <td>-114.81</td>\n",
       "      <td>1.35</td>\n",
       "    </tr>\n",
       "  </tbody>\n",
       "</table>\n",
       "</div>"
      ],
      "text/plain": [
       "      date        lat       long                 pano_id   name pano_yaw_deg  \\\n",
       "0  2019-06  42.957503 -87.938367  XPRpjNDhowVo8zvqvSU1CA      1    91.979996   \n",
       "1  2016-10  42.899259 -88.047098  iEyn0apLSZvl4i4alUbfcA     10    145.81999   \n",
       "2  2011-08  42.921614 -87.881025  1BzC3WoFeJ8U1aUT9Hx8mg    100       359.18   \n",
       "3  2018-09  43.050123 -88.040263  oRN5vilebPS0srDXRPylzw   1000       161.11   \n",
       "4  2019-05  42.959289 -88.026043  KimNSirhP1TzngZkSpc8UA  10000       270.06   \n",
       "\n",
       "  tilt_yaw_deg tilt_pitch_deg  \n",
       "0       125.04           0.83  \n",
       "1   -178.26999           1.06  \n",
       "2    30.769999           2.55  \n",
       "3    67.549995      1.5699999  \n",
       "4      -114.81           1.35  "
      ]
     },
     "execution_count": 59,
     "metadata": {},
     "output_type": "execute_result"
    }
   ],
   "source": [
    "meta_df.head()"
   ]
  },
  {
   "cell_type": "code",
   "execution_count": 60,
   "metadata": {},
   "outputs": [],
   "source": [
    "meta_df.to_csv('meta_with_depth.csv')"
   ]
  },
  {
   "cell_type": "code",
   "execution_count": 4,
   "metadata": {},
   "outputs": [],
   "source": [
    "!chmod -R +x './decode_depthmap'"
   ]
  },
  {
   "cell_type": "code",
   "execution_count": 18,
   "metadata": {},
   "outputs": [],
   "source": [
    "def upload_to_s3(target_dir):\n",
    "    fs = s3fs.S3FileSystem()\n",
    "    s3_client = boto3.client('s3')\n",
    "    bucket = 'gsv-depths'\n",
    "    \n",
    "    for filename in os.listdir(target_dir):\n",
    "        if filename.endswith(\".xml\"):\n",
    "            obj_name = 'depth_xml/' + filename\n",
    "        elif filename.endswith('.txt'):\n",
    "            obj_name = 'depth_txt/' + filename\n",
    "        else:\n",
    "            continue\n",
    "            \n",
    "        try:\n",
    "            response = s3_client.upload_file(target_dir + '/' + filename, bucket, obj_name)\n",
    "        except:\n",
    "            print(filename)\n",
    "            continue\n",
    "        # delete from local store\n",
    "        os.remove(target_dir + '/' + filename)"
   ]
  },
  {
   "cell_type": "code",
   "execution_count": 6,
   "metadata": {},
   "outputs": [],
   "source": [
    "def decode_depthmap(file_in, file_out, verbose=True):\n",
    "    \"\"\"\n",
    "     Copied from https://github.com/ProjectSidewalk/sidewalk-panorama-tools/blob/ce1565993129a76afc52346366c0e73884b84090/GSVScraper.py\n",
    "     \n",
    "     This function executes ./decode_depthmap . The decode_depthmap retrieves 3D point-cloud data \n",
    "     from the file_in (depth.xml) and spits out the result. \n",
    "     call function\n",
    "     http://stackoverflow.com/questions/89228/calling-an-external-command-in-python\n",
    "    \"\"\"    \n",
    "\n",
    "    if verbose: print('-- Decoding depth data...'), \n",
    "    if os.path.isfile(file_out):\n",
    "        print('File already exists.')\n",
    "        return\n",
    "    \n",
    "    operating_system = platform.system()\n",
    "    \n",
    "    if operating_system == 'Windows':\n",
    "        # Windows\n",
    "        #\n",
    "        # Caution!!! I have worked on this for a couple of hours, but I could not run the decode_depthmap_win.exe \n",
    "        # from PyLab using subprocess.call. Quick walk around is to run the python script from the cmd.exe\n",
    "        # Will investigate the solution in future.\n",
    "        # http://stackoverflow.com/questions/3022013/windows-cant-find-the-file-on-subprocess-call\n",
    "        # http://stackoverflow.com/questions/10236260/subprocess-pydev-console-vs-cmd-exe\n",
    "        \n",
    "        # pwd = os.path.dirname(os.path.abspath(__file__))\n",
    "        # bin_dir = \"\\\\\".join(pwd.split(\"\\\\\")[:-1]) + \"\\\\bin\"\n",
    "        # my_env = os.environ.copy()\n",
    "        # my_env[\"PATH\"] += os.pathsep + bin_dir\n",
    "\n",
    "        call([\"decode_depthmap\", file_in, file_out], shell=True)\n",
    "        #popen = subprocess.Popen([\"../bin/decode_depthmap_win.exe\", file_in, file_out], creationflags=subprocess.CREATE_NEW_CONSOLE)\n",
    "        #popen.wait()\n",
    "        #out = check_output([bin_dir + \"\\decode_depthmap_win.exe\", file_in, file_out], env=my_env)\n",
    "        #if verbose: print out\n",
    "    else:\n",
    "        # Mac\n",
    "        call([\"./decode_depthmap\", file_in, file_out])\n",
    "    return"
   ]
  },
  {
   "cell_type": "code",
   "execution_count": 12,
   "metadata": {},
   "outputs": [],
   "source": [
    "def get_pano_depthdata(target_dir, pano_ids, delay=1000., decode=True, verbose=False):\n",
    "    '''\n",
    "     Edited based on sidewalk-panorama-tools/GSVScraper.py\n",
    "     \n",
    "     This method downloads a xml file that contains depth information from GSV. It first\n",
    "     checks if we have a folder for each pano_id, and checks if we already have the corresponding\n",
    "     depth file or not.  \n",
    "    '''\n",
    "    cnt = 0\n",
    "    base_url = \"http://maps.google.com/cbk?output=xml&cb_client=maps_sv&hl=en&dm=1&pm=1&ph=1&renderer=cubic,spherical&v=4&panoid=\"\n",
    "    for pano_id in pano_ids:\n",
    "        cnt += 1\n",
    "        # Check if the directory exists. Then check if the file already exists and skip if it does.\n",
    "        if not os.path.exists(target_dir + '/'):\n",
    "            print('Invalid target directory')\n",
    "            break\n",
    "        if os.path.isfile(target_dir + '/' + pano_id + '.xml'):\n",
    "            if verbose:\n",
    "                print('File already exists.')\n",
    "            continue\n",
    "\n",
    "        url = base_url + pano_id\n",
    "        with open(target_dir + '/' + pano_id + '.xml', 'wb') as f:\n",
    "            try:\n",
    "                req = urllib.request.urlopen(url)\n",
    "            except:\n",
    "                print(pano_id)\n",
    "                continue\n",
    "            for line in req:\n",
    "                f.write(line)\n",
    "\n",
    "        # Wait a little bit so you don't get blocked by Google\n",
    "        sleep_in_seconds = float(delay) / 1000\n",
    "        sleep(sleep_in_seconds)\n",
    "\n",
    "        if decode:\n",
    "            decode_depthmap(target_dir + '/' + pano_id + '.xml', target_dir + '/' + pano_id + '.txt', verbose=False)\n",
    "\n",
    "        if cnt%100 == 0:\n",
    "            upload_to_s3(target_dir)\n",
    "        \n",
    "    return"
   ]
  },
  {
   "cell_type": "code",
   "execution_count": 21,
   "metadata": {},
   "outputs": [
    {
     "name": "stdout",
     "output_type": "stream",
     "text": [
      "CAoSLEFGMVFpcE9UUzFOUTZzcE1qTmRobXJ2UjVpMDR1UHZORFlEZ1lpV18xaWNT\n",
      "CAoSLEFGMVFpcE9LcDlBb0VQSkhTTXUtb1h1Rl80dGRiQmQ5cWptN2RHck8yMGhT\n",
      "CAoSLEFGMVFpcE9tV2p2TFZscVB6NFFqTFlOUG9DRVcyRi1PeFF5OUNOdlVFRkph\n",
      "CAoSLEFGMVFpcE5hQWtJVS05RlEzb2cyR0VROE81WFpTeWZDa1NZYk9kaHVObXlK\n",
      "CAoSLEFGMVFpcFB3VFR2N3ppOGZ2RlVXQWExSFA1V1UxRmM3N3lUM1dtRzNlZGVS\n",
      "CAoSLEFGMVFpcE1ZbFAzalBkSGlhcHRSZ3NQSnhuRWl0dTFQUzRyS3lpckxuVUZP\n",
      "CAoSLEFGMVFpcE9LeTg0ZkVoR0RWVTVJeVkxQm5pSktTbEh4Q1EzUTdJSkNmMmp1\n",
      "CAoSLEFGMVFpcFA4aTJZTTRFYlIzS0E2Y0kxZ0NWMTBNX2pLYV8ya2VIUDg4Yzc2\n",
      "CAoSLEFGMVFpcE5nUEJBNm1ydVZjakt1R3V6SGlHRWc3SDlLVk1PRThjUmVJNUJw\n",
      "CAoSLEFGMVFpcFByOTVfT3l3OGsxVjZyV2RfbWY5bkgtNVdhT1ZoN2xfamdpMzFF\n",
      "CAoSLEFGMVFpcE0waE9QYXJqYUZlc3dXYnZVeUx2NWIta3d3SkQ2dTI1M3Y4LTdK\n",
      "CAoSLEFGMVFpcE5BSmh4c18wNmdVY2ZwbUkyYXJ3dERiMmt4M3Q3aDEzYTdWb2VK\n",
      "CAoSLEFGMVFpcE5VVXRZVFZPRG5vd1U1N1lsRGZ2TEFnSmp4MHlTNTI0Qi1hN041\n",
      "CAoSLEFGMVFpcE56TTl3Q0Z5S1RYUkJaamV0bkQ3R1p4blA4QjRfWU1FUVBXN2c2\n",
      "CAoSLEFGMVFpcE9xVmRXb0ZaVzdXSjh1NlZyTHpIWEdRM0lhNi0wRThHTW5JWFE2\n",
      "CAoSLEFGMVFpcE14Qmg3SHRuMFNtYXg0SDJFOVNDUUNtbnUwVHZfQnVfeG1ZQWd3\n",
      "CAoSLEFGMVFpcE9nVlMyekY2WVZLaFRWVnl3VlFTaVhORGR6RHc0cjBuQVhLUFVY\n",
      "CAoSLEFGMVFpcE1WVEhJSE1vTVh5cVNZTzJ5cUdBU2lmOXpNZ0VoVUJoamVEQVA1\n",
      "CAoSLEFGMVFpcE13Q2I1OGtNMFNFYjJYMjdrMlEzbUpyaFhNV016ZkQxU3hGNVF3\n",
      "CAoSLEFGMVFpcE5FVDdMMWVGMG90dTNKVXV2WGxra3F4SWZPV1pqUHdOUktUVDhF\n",
      "CAoSLEFGMVFpcE45eVBQSE41Y2tKWlF5WldydmpQR1lJOExleWswYWVKMmtFaHJy\n",
      "CAoSLEFGMVFpcE1CQ3dwNlpVcmVKYXplQldlOGFrUGprelI4X0dRdjI3eHVBZjRt\n",
      "CAoSLEFGMVFpcFBZODFrNjQtaUx5MDBWaTd0Y3R3ODR0UmVTTWw5dGRza2NXQ08z\n",
      "CAoSLEFGMVFpcE1INFNscGFuNm9oRHpXcHd3elVyWE1xblBWVE9IblFjNzNpekkw\n",
      "CAoSLEFGMVFpcE5aUmMxRElVWkltYURnN1F5R3VkQUxmVEYtUVVBZ014Rk5KYjY2\n",
      "CAoSK0FGMVFpcE1UMWVMOWNSN3dtbHgyR1lXclU0MkFVM3BCemc4bk5Fam5ua0E.\n",
      "CAoSLEFGMVFpcE8yX0g1NFRlT3V2YXFsMm5sSGNJV1haNnZSNTNseEc3VEtaeVZf\n",
      "CAoSLEFGMVFpcE5fWmlJWWdvaXg5dUtsamVFTG5WSExlQ1djT2E4ckhOV1dGTzYz\n",
      "CAoSLEFGMVFpcFBDbGlycVhCTUdRMHcycnFmQUEzUnJ1Q1JZak5kbHhxVVhWOEwt\n",
      "CAoSLEFGMVFpcE1aY2ZnMm05OXQxOG9GMU9aMnl4c3ZWQmFzN1pzdjJ1Y2l4Xy0y\n",
      "CAoSLEFGMVFpcE1VSlRYSzdBVGptOHdJN2gycExBM3JmX0xhWUZsdjRjVWd5VVJp\n",
      "CAoSLEFGMVFpcFBoNmFUbldwNV9yUzBsUWphRVIydGxiazFrWkJxY0taZ0Q5LTZR\n",
      "CAoSLEFGMVFpcE94eHVUWlpEV2dpV1JzYkNjUWUyMEdMN01CV2NkSWZlVDAwQ2hl\n",
      "CAoSLEFGMVFpcE9RNm1pUWxUdk80a0lsMDYzeGVHVW80SmVNVXN4dVR0bVl4aWJi\n",
      "CAoSLEFGMVFpcE1ReUdTVHkxSldMbEdzUUFqVzIwQk1zZHRMWjFfQmUzZW9rNnc3\n",
      "CAoSLEFGMVFpcE9RR2xHN25BclJtVFkxV3FWR3d0Nm9GYWhZM2RpRHh5cXZXVFd4\n",
      "CAoSLEFGMVFpcE01LTdzazZsQkN0ZDhITG5FeDRCaTNtVTJYN1pxblNONmpnckx4\n",
      "CAoSLEFGMVFpcE50YW1yV0FhakVUejZzMXU1VHlFM240NGpZbXNqUE1IclkyNXpY\n"
     ]
    }
   ],
   "source": [
    "target_dir = './depth'\n",
    "get_pano_depthdata(target_dir, pano_ids, delay=1000., decode=True, verbose=False)"
   ]
  },
  {
   "cell_type": "code",
   "execution_count": 20,
   "metadata": {},
   "outputs": [],
   "source": []
  },
  {
   "cell_type": "code",
   "execution_count": null,
   "metadata": {},
   "outputs": [],
   "source": []
  }
 ],
 "metadata": {
  "kernelspec": {
   "display_name": "Python 3",
   "language": "python",
   "name": "python3"
  },
  "language_info": {
   "codemirror_mode": {
    "name": "ipython",
    "version": 3
   },
   "file_extension": ".py",
   "mimetype": "text/x-python",
   "name": "python",
   "nbconvert_exporter": "python",
   "pygments_lexer": "ipython3",
   "version": "3.6.9"
  }
 },
 "nbformat": 4,
 "nbformat_minor": 2
}
