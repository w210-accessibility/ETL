{
 "cells": [
  {
   "cell_type": "code",
   "execution_count": 1,
   "metadata": {},
   "outputs": [],
   "source": [
    "import pandas as pd\n",
    "import geopandas as gpd\n",
    "from shapely.geometry import Point, Polygon\n",
    "from geopy.distance import geodesic \n",
    "from statistics import mean \n",
    "import json\n",
    "from datetime import datetime"
   ]
  },
  {
   "cell_type": "code",
   "execution_count": 2,
   "metadata": {},
   "outputs": [],
   "source": [
    "sidewalk_to_pano = pd.read_csv('panos_for_fake_preds.csv')"
   ]
  },
  {
   "cell_type": "code",
   "execution_count": 3,
   "metadata": {},
   "outputs": [
    {
     "data": {
      "text/html": [
       "<div>\n",
       "<style scoped>\n",
       "    .dataframe tbody tr th:only-of-type {\n",
       "        vertical-align: middle;\n",
       "    }\n",
       "\n",
       "    .dataframe tbody tr th {\n",
       "        vertical-align: top;\n",
       "    }\n",
       "\n",
       "    .dataframe thead th {\n",
       "        text-align: right;\n",
       "    }\n",
       "</style>\n",
       "<table border=\"1\" class=\"dataframe\">\n",
       "  <thead>\n",
       "    <tr style=\"text-align: right;\">\n",
       "      <th></th>\n",
       "      <th>linkId</th>\n",
       "      <th>segmentId</th>\n",
       "      <th>whichEndpoint</th>\n",
       "      <th>panoId</th>\n",
       "      <th>headingDegree</th>\n",
       "    </tr>\n",
       "  </thead>\n",
       "  <tbody>\n",
       "    <tr>\n",
       "      <th>0</th>\n",
       "      <td>37484</td>\n",
       "      <td>17748</td>\n",
       "      <td>start</td>\n",
       "      <td>2117</td>\n",
       "      <td>135</td>\n",
       "    </tr>\n",
       "    <tr>\n",
       "      <th>1</th>\n",
       "      <td>24291</td>\n",
       "      <td>2974</td>\n",
       "      <td>end</td>\n",
       "      <td>17585</td>\n",
       "      <td>45</td>\n",
       "    </tr>\n",
       "    <tr>\n",
       "      <th>2</th>\n",
       "      <td>8385</td>\n",
       "      <td>3223</td>\n",
       "      <td>end</td>\n",
       "      <td>3598</td>\n",
       "      <td>45</td>\n",
       "    </tr>\n",
       "    <tr>\n",
       "      <th>3</th>\n",
       "      <td>31412</td>\n",
       "      <td>19259</td>\n",
       "      <td>end</td>\n",
       "      <td>12030</td>\n",
       "      <td>135</td>\n",
       "    </tr>\n",
       "    <tr>\n",
       "      <th>4</th>\n",
       "      <td>50050</td>\n",
       "      <td>9123</td>\n",
       "      <td>end</td>\n",
       "      <td>8203</td>\n",
       "      <td>45</td>\n",
       "    </tr>\n",
       "  </tbody>\n",
       "</table>\n",
       "</div>"
      ],
      "text/plain": [
       "   linkId  segmentId whichEndpoint  panoId  headingDegree\n",
       "0   37484      17748         start    2117            135\n",
       "1   24291       2974           end   17585             45\n",
       "2    8385       3223           end    3598             45\n",
       "3   31412      19259           end   12030            135\n",
       "4   50050       9123           end    8203             45"
      ]
     },
     "execution_count": 3,
     "metadata": {},
     "output_type": "execute_result"
    }
   ],
   "source": [
    "sidewalk_to_pano.head()"
   ]
  },
  {
   "cell_type": "code",
   "execution_count": 9,
   "metadata": {},
   "outputs": [],
   "source": [
    "sidewalk_to_pano = sidewalk_to_pano.drop_duplicates(['panoId', 'headingDegree'])"
   ]
  },
  {
   "cell_type": "code",
   "execution_count": 10,
   "metadata": {},
   "outputs": [
    {
     "data": {
      "text/plain": [
       "(991, 5)"
      ]
     },
     "execution_count": 10,
     "metadata": {},
     "output_type": "execute_result"
    }
   ],
   "source": [
    "sidewalk_to_pano.shape"
   ]
  },
  {
   "cell_type": "code",
   "execution_count": 24,
   "metadata": {},
   "outputs": [],
   "source": [
    "# for now just making all of these linearId's 0 \n",
    "# I don't think we actually need those for this table\n",
    "df = pd.DataFrame()\n",
    "df['panoId'] = sidewalk_to_pano['panoId']\n",
    "df['linearId'] = 0\n",
    "df['headingDegree'] = sidewalk_to_pano['headingDegree']\n",
    "df['label'] = 1\n",
    "df['source'] = 'fake'\n",
    "df['id'] = [i + 1 for i in df.index.values.tolist()]"
   ]
  },
  {
   "cell_type": "code",
   "execution_count": 25,
   "metadata": {},
   "outputs": [],
   "source": [
    "df_to_load = df.filter(['id', 'panoId', 'linearId', 'headingDegree', 'label', 'source', 'updateTs'])"
   ]
  },
  {
   "cell_type": "code",
   "execution_count": 27,
   "metadata": {},
   "outputs": [],
   "source": [
    "# this isn't necessary in future - was trying to bypass \n",
    "# weird thing in first row\n",
    "df_to_load = df_to_load[1:]"
   ]
  },
  {
   "cell_type": "code",
   "execution_count": 28,
   "metadata": {},
   "outputs": [],
   "source": [
    "import pymysql\n",
    "connection = pymysql.connect(host='aa6f8tcntjfd0z.c5625ddefrth.us-west-2.rds.amazonaws.com',\n",
    "                             port=3306,\n",
    "                             user= # ask Emily :) \n",
    "                             password= # ask Emily :) \n",
    "                             db='ebdb')\n",
    "cursor=connection.cursor()"
   ]
  },
  {
   "cell_type": "code",
   "execution_count": 29,
   "metadata": {},
   "outputs": [],
   "source": [
    "# NOTE: this method is way slow\n",
    "# creating column list for insertion\n",
    "cols = \"`,`\".join([str(i) for i in df_to_load.columns.tolist()])\n",
    "\n",
    "# Insert DataFrame recrds one by one.\n",
    "for i,row in df_to_load.iterrows():\n",
    "    sql = \"INSERT INTO `pano_feature` (`\" +cols + \"`) VALUES (\" + \"%s,\"*(len(row)-1) + \"%s)\"\n",
    "    cursor.execute(sql, tuple(row))\n",
    "\n",
    "    # the connection is not autocommitted by default, so we must commit to save our changes\n",
    "    connection.commit()"
   ]
  },
  {
   "cell_type": "code",
   "execution_count": null,
   "metadata": {},
   "outputs": [],
   "source": []
  }
 ],
 "metadata": {
  "kernelspec": {
   "display_name": "Python 3",
   "language": "python",
   "name": "python3"
  },
  "language_info": {
   "codemirror_mode": {
    "name": "ipython",
    "version": 3
   },
   "file_extension": ".py",
   "mimetype": "text/x-python",
   "name": "python",
   "nbconvert_exporter": "python",
   "pygments_lexer": "ipython3",
   "version": "3.7.6"
  }
 },
 "nbformat": 4,
 "nbformat_minor": 2
}
