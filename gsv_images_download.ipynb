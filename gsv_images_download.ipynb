{
 "cells": [
  {
   "cell_type": "code",
   "execution_count": null,
   "metadata": {},
   "outputs": [],
   "source": [
    "### download the gsv imagery given coordinates of intersections ###\n",
    "\n",
    "import pandas as pd\n",
    "import urllib, os\n",
    "\n",
    "mycoord = pd.read_csv(r\"filename.csv\") # replace with your coordinates file\n",
    "myloc = r\"filepath\" # replace with the path to where you want your images downloaded\n",
    "key = \"&key=\" + \"APIKey\" #replace with your API key\n",
    "\n",
    "def GetStreet(Lat,Lon,head,SaveLoc,intersect_id):\n",
    "                \n",
    "    base = \"https://maps.googleapis.com/maps/api/streetview?size=640x640&location=\"\n",
    "    MyUrl = base + str(Lat) + \",\" + str(Lon) + \"&heading=\" + str(head) + key\n",
    "    #print(MyUrl)\n",
    "    fi = str(intersect_id) + \"_\" + str(head) + \".jpg\"\n",
    "    urllib.request.urlretrieve(MyUrl, os.path.join(SaveLoc,fi))\n",
    " \n",
    "        \n",
    "def GetMetadata(Lat,Lon,SaveLoc,intersect_id):\n",
    "    base =  \"https://maps.googleapis.com/maps/api/streetview/metadata?size=640x640&location=\"\n",
    "    MyUrl = base + str(Lat) + \",\" + str(Lon) + key\n",
    "    #print(MyUrl)\n",
    "    fi = str(intersect_id) + \".json\"\n",
    "    urllib.request.urlretrieve(MyUrl, os.path.join(SaveLoc,fi))\n",
    "    \n",
    "for index, row in mycoord.iterrows():\n",
    "    if index < 5000 :   # replace with your index range (5001-10000, 10001-15000, >=15000)\n",
    "        GetStreet(row['y'], row['x'], 45, myloc, row['Intersection_ID']) # head = 45, 135, 225, 315 \n",
    "        GetStreet(row['y'], row['x'], 135, myloc, row['Intersection_ID']) \n",
    "        GetStreet(row['y'], row['x'], 225, myloc, row['Intersection_ID']) \n",
    "        GetStreet(row['y'], row['x'], 315, myloc, row['Intersection_ID']) \n",
    "        \n",
    "        GetMetadata(row['y'], row['x'], myloc, row['Intersection_ID'])\n"
   ]
  }
 ],
 "metadata": {
  "kernelspec": {
   "display_name": "Python 3",
   "language": "python",
   "name": "python3"
  },
  "language_info": {
   "codemirror_mode": {
    "name": "ipython",
    "version": 3
   },
   "file_extension": ".py",
   "mimetype": "text/x-python",
   "name": "python",
   "nbconvert_exporter": "python",
   "pygments_lexer": "ipython3",
   "version": "3.6.10"
  }
 },
 "nbformat": 4,
 "nbformat_minor": 2
}
