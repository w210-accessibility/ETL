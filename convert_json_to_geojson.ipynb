{
 "cells": [
  {
   "cell_type": "code",
   "execution_count": 26,
   "metadata": {},
   "outputs": [],
   "source": [
    "import geopandas as gpd\n",
    "import shapely"
   ]
  },
  {
   "cell_type": "code",
   "execution_count": 27,
   "metadata": {},
   "outputs": [],
   "source": [
    "import json\n",
    "from geojson import Point, Feature, FeatureCollection, dump"
   ]
  },
  {
   "cell_type": "code",
   "execution_count": 32,
   "metadata": {},
   "outputs": [],
   "source": [
    "file_list = ['passable_data_{}.json'.format(i) for i in range(1, 6)]\n",
    "file_list.append('part_passable_data.json')\n",
    "file_list.append('impassable_data.json')\n",
    "\n",
    "for file in file_list:\n",
    "    with open(file) as json_file:\n",
    "        data = json.load(json_file)\n",
    "    key = list(data.keys())[0]\n",
    "    feature_collection = FeatureCollection(data[key])\n",
    "    \n",
    "    with open(file.replace('json', 'geojson'), 'w') as outfile:\n",
    "        dump(feature_collection, outfile)"
   ]
  },
  {
   "cell_type": "code",
   "execution_count": null,
   "metadata": {},
   "outputs": [],
   "source": []
  }
 ],
 "metadata": {
  "kernelspec": {
   "display_name": "Python 3",
   "language": "python",
   "name": "python3"
  },
  "language_info": {
   "codemirror_mode": {
    "name": "ipython",
    "version": 3
   },
   "file_extension": ".py",
   "mimetype": "text/x-python",
   "name": "python",
   "nbconvert_exporter": "python",
   "pygments_lexer": "ipython3",
   "version": "3.7.6"
  }
 },
 "nbformat": 4,
 "nbformat_minor": 2
}
