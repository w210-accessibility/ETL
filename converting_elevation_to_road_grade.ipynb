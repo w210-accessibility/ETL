{
 "cells": [
  {
   "cell_type": "code",
   "execution_count": 24,
   "metadata": {},
   "outputs": [],
   "source": [
    "from geopy.distance import distance\n",
    "import pandas as pd\n",
    "import numpy as np"
   ]
  },
  {
   "cell_type": "markdown",
   "metadata": {},
   "source": [
    "## Bridge Elevations to Sidewalk Segments"
   ]
  },
  {
   "cell_type": "code",
   "execution_count": 25,
   "metadata": {},
   "outputs": [],
   "source": [
    "bridge = pd.read_csv('elevation_road_bridge.csv')\n",
    "elevations = pd.read_csv('elevations_metadata.csv')"
   ]
  },
  {
   "cell_type": "code",
   "execution_count": 26,
   "metadata": {},
   "outputs": [
    {
     "data": {
      "text/html": [
       "<div>\n",
       "<style scoped>\n",
       "    .dataframe tbody tr th:only-of-type {\n",
       "        vertical-align: middle;\n",
       "    }\n",
       "\n",
       "    .dataframe tbody tr th {\n",
       "        vertical-align: top;\n",
       "    }\n",
       "\n",
       "    .dataframe thead th {\n",
       "        text-align: right;\n",
       "    }\n",
       "</style>\n",
       "<table border=\"1\" class=\"dataframe\">\n",
       "  <thead>\n",
       "    <tr style=\"text-align: right;\">\n",
       "      <th></th>\n",
       "      <th>OBJECTID</th>\n",
       "      <th>FID_Contours_Merge</th>\n",
       "      <th>Type</th>\n",
       "      <th>Elev</th>\n",
       "      <th>FID_tl_2015_55079_roads</th>\n",
       "      <th>LINEARID</th>\n",
       "      <th>Lat</th>\n",
       "      <th>Long</th>\n",
       "    </tr>\n",
       "  </thead>\n",
       "  <tbody>\n",
       "    <tr>\n",
       "      <td>0</td>\n",
       "      <td>166</td>\n",
       "      <td>135516.0</td>\n",
       "      <td>Intermediate</td>\n",
       "      <td>783</td>\n",
       "      <td>886</td>\n",
       "      <td>1102213780402</td>\n",
       "      <td>42.979939</td>\n",
       "      <td>-88.037474</td>\n",
       "    </tr>\n",
       "    <tr>\n",
       "      <td>1</td>\n",
       "      <td>172</td>\n",
       "      <td>135522.0</td>\n",
       "      <td>Intermediate</td>\n",
       "      <td>779</td>\n",
       "      <td>886</td>\n",
       "      <td>1102213780402</td>\n",
       "      <td>42.979445</td>\n",
       "      <td>-88.037495</td>\n",
       "    </tr>\n",
       "    <tr>\n",
       "      <td>2</td>\n",
       "      <td>184</td>\n",
       "      <td>135574.0</td>\n",
       "      <td>Index</td>\n",
       "      <td>785</td>\n",
       "      <td>6446</td>\n",
       "      <td>110459338452</td>\n",
       "      <td>42.973745</td>\n",
       "      <td>-88.033920</td>\n",
       "    </tr>\n",
       "    <tr>\n",
       "      <td>3</td>\n",
       "      <td>185</td>\n",
       "      <td>135578.0</td>\n",
       "      <td>Intermediate</td>\n",
       "      <td>784</td>\n",
       "      <td>6446</td>\n",
       "      <td>110459338452</td>\n",
       "      <td>42.973900</td>\n",
       "      <td>-88.033929</td>\n",
       "    </tr>\n",
       "    <tr>\n",
       "      <td>4</td>\n",
       "      <td>186</td>\n",
       "      <td>135580.0</td>\n",
       "      <td>Intermediate</td>\n",
       "      <td>782</td>\n",
       "      <td>6446</td>\n",
       "      <td>110459338452</td>\n",
       "      <td>42.974104</td>\n",
       "      <td>-88.033918</td>\n",
       "    </tr>\n",
       "  </tbody>\n",
       "</table>\n",
       "</div>"
      ],
      "text/plain": [
       "   OBJECTID  FID_Contours_Merge          Type  Elev  FID_tl_2015_55079_roads  \\\n",
       "0       166            135516.0  Intermediate   783                      886   \n",
       "1       172            135522.0  Intermediate   779                      886   \n",
       "2       184            135574.0         Index   785                     6446   \n",
       "3       185            135578.0  Intermediate   784                     6446   \n",
       "4       186            135580.0  Intermediate   782                     6446   \n",
       "\n",
       "        LINEARID        Lat       Long  \n",
       "0  1102213780402  42.979939 -88.037474  \n",
       "1  1102213780402  42.979445 -88.037495  \n",
       "2   110459338452  42.973745 -88.033920  \n",
       "3   110459338452  42.973900 -88.033929  \n",
       "4   110459338452  42.974104 -88.033918  "
      ]
     },
     "execution_count": 26,
     "metadata": {},
     "output_type": "execute_result"
    }
   ],
   "source": [
    "elevations.head()"
   ]
  },
  {
   "cell_type": "code",
   "execution_count": 27,
   "metadata": {},
   "outputs": [
    {
     "data": {
      "text/html": [
       "<div>\n",
       "<style scoped>\n",
       "    .dataframe tbody tr th:only-of-type {\n",
       "        vertical-align: middle;\n",
       "    }\n",
       "\n",
       "    .dataframe tbody tr th {\n",
       "        vertical-align: top;\n",
       "    }\n",
       "\n",
       "    .dataframe thead th {\n",
       "        text-align: right;\n",
       "    }\n",
       "</style>\n",
       "<table border=\"1\" class=\"dataframe\">\n",
       "  <thead>\n",
       "    <tr style=\"text-align: right;\">\n",
       "      <th></th>\n",
       "      <th>FID_elevations_merged</th>\n",
       "      <th>FID_centerlines_dissolve</th>\n",
       "    </tr>\n",
       "  </thead>\n",
       "  <tbody>\n",
       "    <tr>\n",
       "      <td>0</td>\n",
       "      <td>185</td>\n",
       "      <td>8136</td>\n",
       "    </tr>\n",
       "    <tr>\n",
       "      <td>1</td>\n",
       "      <td>187</td>\n",
       "      <td>8189</td>\n",
       "    </tr>\n",
       "    <tr>\n",
       "      <td>2</td>\n",
       "      <td>189</td>\n",
       "      <td>8136</td>\n",
       "    </tr>\n",
       "    <tr>\n",
       "      <td>3</td>\n",
       "      <td>191</td>\n",
       "      <td>8222</td>\n",
       "    </tr>\n",
       "    <tr>\n",
       "      <td>4</td>\n",
       "      <td>192</td>\n",
       "      <td>8136</td>\n",
       "    </tr>\n",
       "  </tbody>\n",
       "</table>\n",
       "</div>"
      ],
      "text/plain": [
       "   FID_elevations_merged  FID_centerlines_dissolve\n",
       "0                    185                      8136\n",
       "1                    187                      8189\n",
       "2                    189                      8136\n",
       "3                    191                      8222\n",
       "4                    192                      8136"
      ]
     },
     "execution_count": 27,
     "metadata": {},
     "output_type": "execute_result"
    }
   ],
   "source": [
    "bridge.head()"
   ]
  },
  {
   "cell_type": "code",
   "execution_count": 28,
   "metadata": {},
   "outputs": [],
   "source": [
    "bridge.set_index('FID_elevations_merged', drop=True, inplace=True)"
   ]
  },
  {
   "cell_type": "code",
   "execution_count": 29,
   "metadata": {},
   "outputs": [
    {
     "data": {
      "text/html": [
       "<div>\n",
       "<style scoped>\n",
       "    .dataframe tbody tr th:only-of-type {\n",
       "        vertical-align: middle;\n",
       "    }\n",
       "\n",
       "    .dataframe tbody tr th {\n",
       "        vertical-align: top;\n",
       "    }\n",
       "\n",
       "    .dataframe thead th {\n",
       "        text-align: right;\n",
       "    }\n",
       "</style>\n",
       "<table border=\"1\" class=\"dataframe\">\n",
       "  <thead>\n",
       "    <tr style=\"text-align: right;\">\n",
       "      <th></th>\n",
       "      <th>FID_centerlines_dissolve</th>\n",
       "    </tr>\n",
       "    <tr>\n",
       "      <th>FID_elevations_merged</th>\n",
       "      <th></th>\n",
       "    </tr>\n",
       "  </thead>\n",
       "  <tbody>\n",
       "    <tr>\n",
       "      <td>185</td>\n",
       "      <td>8136</td>\n",
       "    </tr>\n",
       "    <tr>\n",
       "      <td>187</td>\n",
       "      <td>8189</td>\n",
       "    </tr>\n",
       "    <tr>\n",
       "      <td>189</td>\n",
       "      <td>8136</td>\n",
       "    </tr>\n",
       "    <tr>\n",
       "      <td>191</td>\n",
       "      <td>8222</td>\n",
       "    </tr>\n",
       "    <tr>\n",
       "      <td>192</td>\n",
       "      <td>8136</td>\n",
       "    </tr>\n",
       "  </tbody>\n",
       "</table>\n",
       "</div>"
      ],
      "text/plain": [
       "                       FID_centerlines_dissolve\n",
       "FID_elevations_merged                          \n",
       "185                                        8136\n",
       "187                                        8189\n",
       "189                                        8136\n",
       "191                                        8222\n",
       "192                                        8136"
      ]
     },
     "execution_count": 29,
     "metadata": {},
     "output_type": "execute_result"
    }
   ],
   "source": [
    "bridge.head()"
   ]
  },
  {
   "cell_type": "code",
   "execution_count": 30,
   "metadata": {},
   "outputs": [],
   "source": [
    "elevations.set_index('OBJECTID', drop=True, inplace=True)"
   ]
  },
  {
   "cell_type": "code",
   "execution_count": 31,
   "metadata": {},
   "outputs": [
    {
     "data": {
      "text/plain": [
       "(151636, 7)"
      ]
     },
     "execution_count": 31,
     "metadata": {},
     "output_type": "execute_result"
    }
   ],
   "source": [
    "elevations.shape"
   ]
  },
  {
   "cell_type": "code",
   "execution_count": 32,
   "metadata": {},
   "outputs": [],
   "source": [
    "elevations = elevations.join(bridge,how='inner')"
   ]
  },
  {
   "cell_type": "code",
   "execution_count": 33,
   "metadata": {},
   "outputs": [
    {
     "data": {
      "text/plain": [
       "(106867, 8)"
      ]
     },
     "execution_count": 33,
     "metadata": {},
     "output_type": "execute_result"
    }
   ],
   "source": [
    "elevations.shape"
   ]
  },
  {
   "cell_type": "code",
   "execution_count": 34,
   "metadata": {},
   "outputs": [],
   "source": [
    "elevations.reset_index(drop=False, inplace=True)"
   ]
  },
  {
   "cell_type": "code",
   "execution_count": 35,
   "metadata": {},
   "outputs": [
    {
     "data": {
      "text/html": [
       "<div>\n",
       "<style scoped>\n",
       "    .dataframe tbody tr th:only-of-type {\n",
       "        vertical-align: middle;\n",
       "    }\n",
       "\n",
       "    .dataframe tbody tr th {\n",
       "        vertical-align: top;\n",
       "    }\n",
       "\n",
       "    .dataframe thead th {\n",
       "        text-align: right;\n",
       "    }\n",
       "</style>\n",
       "<table border=\"1\" class=\"dataframe\">\n",
       "  <thead>\n",
       "    <tr style=\"text-align: right;\">\n",
       "      <th></th>\n",
       "      <th>elevation_objectID</th>\n",
       "      <th>elev</th>\n",
       "      <th>lat</th>\n",
       "      <th>long</th>\n",
       "      <th>roads_objectID</th>\n",
       "    </tr>\n",
       "  </thead>\n",
       "  <tbody>\n",
       "    <tr>\n",
       "      <td>0</td>\n",
       "      <td>185</td>\n",
       "      <td>784</td>\n",
       "      <td>42.973900</td>\n",
       "      <td>-88.033929</td>\n",
       "      <td>8136</td>\n",
       "    </tr>\n",
       "    <tr>\n",
       "      <td>1</td>\n",
       "      <td>187</td>\n",
       "      <td>782</td>\n",
       "      <td>42.974420</td>\n",
       "      <td>-88.035083</td>\n",
       "      <td>8189</td>\n",
       "    </tr>\n",
       "    <tr>\n",
       "      <td>2</td>\n",
       "      <td>189</td>\n",
       "      <td>781</td>\n",
       "      <td>42.974227</td>\n",
       "      <td>-88.033921</td>\n",
       "      <td>8136</td>\n",
       "    </tr>\n",
       "    <tr>\n",
       "      <td>3</td>\n",
       "      <td>191</td>\n",
       "      <td>777</td>\n",
       "      <td>42.975043</td>\n",
       "      <td>-88.034076</td>\n",
       "      <td>8222</td>\n",
       "    </tr>\n",
       "    <tr>\n",
       "      <td>4</td>\n",
       "      <td>192</td>\n",
       "      <td>780</td>\n",
       "      <td>42.974342</td>\n",
       "      <td>-88.033920</td>\n",
       "      <td>8136</td>\n",
       "    </tr>\n",
       "  </tbody>\n",
       "</table>\n",
       "</div>"
      ],
      "text/plain": [
       "   elevation_objectID  elev        lat       long  roads_objectID\n",
       "0                 185   784  42.973900 -88.033929            8136\n",
       "1                 187   782  42.974420 -88.035083            8189\n",
       "2                 189   781  42.974227 -88.033921            8136\n",
       "3                 191   777  42.975043 -88.034076            8222\n",
       "4                 192   780  42.974342 -88.033920            8136"
      ]
     },
     "execution_count": 35,
     "metadata": {},
     "output_type": "execute_result"
    }
   ],
   "source": [
    "elevations.drop(['FID_Contours_Merge','Type','LINEARID','FID_tl_2015_55079_roads'], axis=1, inplace=True)\n",
    "elevations.columns = ['elevation_objectID','elev','lat','long','roads_objectID']\n",
    "elevations.head()"
   ]
  },
  {
   "cell_type": "code",
   "execution_count": 36,
   "metadata": {},
   "outputs": [
    {
     "data": {
      "text/html": [
       "<div>\n",
       "<style scoped>\n",
       "    .dataframe tbody tr th:only-of-type {\n",
       "        vertical-align: middle;\n",
       "    }\n",
       "\n",
       "    .dataframe tbody tr th {\n",
       "        vertical-align: top;\n",
       "    }\n",
       "\n",
       "    .dataframe thead th {\n",
       "        text-align: right;\n",
       "    }\n",
       "</style>\n",
       "<table border=\"1\" class=\"dataframe\">\n",
       "  <thead>\n",
       "    <tr style=\"text-align: right;\">\n",
       "      <th></th>\n",
       "      <th>elevation_objectID</th>\n",
       "      <th>elev</th>\n",
       "      <th>lat</th>\n",
       "      <th>long</th>\n",
       "      <th>roads_objectID</th>\n",
       "    </tr>\n",
       "  </thead>\n",
       "  <tbody>\n",
       "    <tr>\n",
       "      <td>23428</td>\n",
       "      <td>43937</td>\n",
       "      <td>765</td>\n",
       "      <td>42.920928</td>\n",
       "      <td>-87.939218</td>\n",
       "      <td>3371</td>\n",
       "    </tr>\n",
       "    <tr>\n",
       "      <td>23429</td>\n",
       "      <td>43953</td>\n",
       "      <td>766</td>\n",
       "      <td>42.921088</td>\n",
       "      <td>-87.939210</td>\n",
       "      <td>3371</td>\n",
       "    </tr>\n",
       "    <tr>\n",
       "      <td>23433</td>\n",
       "      <td>43964</td>\n",
       "      <td>767</td>\n",
       "      <td>42.921377</td>\n",
       "      <td>-87.939204</td>\n",
       "      <td>3371</td>\n",
       "    </tr>\n",
       "    <tr>\n",
       "      <td>2816</td>\n",
       "      <td>4374</td>\n",
       "      <td>759</td>\n",
       "      <td>42.921310</td>\n",
       "      <td>-87.937257</td>\n",
       "      <td>3379</td>\n",
       "    </tr>\n",
       "    <tr>\n",
       "      <td>2815</td>\n",
       "      <td>4370</td>\n",
       "      <td>760</td>\n",
       "      <td>42.921316</td>\n",
       "      <td>-87.937461</td>\n",
       "      <td>3379</td>\n",
       "    </tr>\n",
       "  </tbody>\n",
       "</table>\n",
       "</div>"
      ],
      "text/plain": [
       "       elevation_objectID  elev        lat       long  roads_objectID\n",
       "23428               43937   765  42.920928 -87.939218            3371\n",
       "23429               43953   766  42.921088 -87.939210            3371\n",
       "23433               43964   767  42.921377 -87.939204            3371\n",
       "2816                 4374   759  42.921310 -87.937257            3379\n",
       "2815                 4370   760  42.921316 -87.937461            3379"
      ]
     },
     "execution_count": 36,
     "metadata": {},
     "output_type": "execute_result"
    }
   ],
   "source": [
    "elevations.sort_values(by=['roads_objectID','lat','long'],inplace=True)\n",
    "elevations.head()"
   ]
  },
  {
   "cell_type": "code",
   "execution_count": 16,
   "metadata": {},
   "outputs": [],
   "source": [
    "elevations.to_csv('elevations_to_roads.csv')"
   ]
  },
  {
   "cell_type": "markdown",
   "metadata": {},
   "source": [
    "## Find differences in Road Segments"
   ]
  },
  {
   "cell_type": "code",
   "execution_count": 52,
   "metadata": {},
   "outputs": [
    {
     "data": {
      "text/html": [
       "<div>\n",
       "<style scoped>\n",
       "    .dataframe tbody tr th:only-of-type {\n",
       "        vertical-align: middle;\n",
       "    }\n",
       "\n",
       "    .dataframe tbody tr th {\n",
       "        vertical-align: top;\n",
       "    }\n",
       "\n",
       "    .dataframe thead th {\n",
       "        text-align: right;\n",
       "    }\n",
       "</style>\n",
       "<table border=\"1\" class=\"dataframe\">\n",
       "  <thead>\n",
       "    <tr style=\"text-align: right;\">\n",
       "      <th></th>\n",
       "      <th>elevation_objectID</th>\n",
       "      <th>elev</th>\n",
       "      <th>lat</th>\n",
       "      <th>long</th>\n",
       "      <th>roads_objectID</th>\n",
       "    </tr>\n",
       "  </thead>\n",
       "  <tbody>\n",
       "    <tr>\n",
       "      <td>0</td>\n",
       "      <td>43937</td>\n",
       "      <td>765</td>\n",
       "      <td>42.920928</td>\n",
       "      <td>-87.939218</td>\n",
       "      <td>3371</td>\n",
       "    </tr>\n",
       "    <tr>\n",
       "      <td>1</td>\n",
       "      <td>43953</td>\n",
       "      <td>766</td>\n",
       "      <td>42.921088</td>\n",
       "      <td>-87.939210</td>\n",
       "      <td>3371</td>\n",
       "    </tr>\n",
       "    <tr>\n",
       "      <td>2</td>\n",
       "      <td>43964</td>\n",
       "      <td>767</td>\n",
       "      <td>42.921377</td>\n",
       "      <td>-87.939204</td>\n",
       "      <td>3371</td>\n",
       "    </tr>\n",
       "    <tr>\n",
       "      <td>3</td>\n",
       "      <td>4374</td>\n",
       "      <td>759</td>\n",
       "      <td>42.921310</td>\n",
       "      <td>-87.937257</td>\n",
       "      <td>3379</td>\n",
       "    </tr>\n",
       "    <tr>\n",
       "      <td>4</td>\n",
       "      <td>4370</td>\n",
       "      <td>760</td>\n",
       "      <td>42.921316</td>\n",
       "      <td>-87.937461</td>\n",
       "      <td>3379</td>\n",
       "    </tr>\n",
       "  </tbody>\n",
       "</table>\n",
       "</div>"
      ],
      "text/plain": [
       "   elevation_objectID  elev        lat       long  roads_objectID\n",
       "0               43937   765  42.920928 -87.939218            3371\n",
       "1               43953   766  42.921088 -87.939210            3371\n",
       "2               43964   767  42.921377 -87.939204            3371\n",
       "3                4374   759  42.921310 -87.937257            3379\n",
       "4                4370   760  42.921316 -87.937461            3379"
      ]
     },
     "execution_count": 52,
     "metadata": {},
     "output_type": "execute_result"
    }
   ],
   "source": [
    "df = pd.read_csv('elevations_to_roads.csv', index_col=0)\n",
    "df.reset_index(drop=True, inplace=True)\n",
    "df.head()"
   ]
  },
  {
   "cell_type": "code",
   "execution_count": 38,
   "metadata": {},
   "outputs": [],
   "source": []
  },
  {
   "cell_type": "code",
   "execution_count": 53,
   "metadata": {},
   "outputs": [],
   "source": [
    "def reset_grades(point):\n",
    "    return point.elev, (point.lat, point.long), 0, 0"
   ]
  },
  {
   "cell_type": "code",
   "execution_count": 54,
   "metadata": {},
   "outputs": [],
   "source": [
    "# Get all road segments and we'll loop through each one and put the \n",
    "# elevations in order\n",
    "road_segments = np.unique(df.roads_objectID.values)\n",
    "road_grades = {}\n",
    "for road in road_segments:    \n",
    "    elev = df[df.roads_objectID == road].copy()\n",
    "    elev.drop_duplicates(subset=['elev','lat','long'], inplace=True)\n",
    "    \n",
    "    # If there's only one elevation, we can't capture road grade so \n",
    "    # set road grade to zero and move on\n",
    "    if elev.shape[0] == 1:\n",
    "        road_grades[road] = 0\n",
    "        continue\n",
    "        \n",
    "    # Guess which direction the road is in based on max variance\n",
    "    lat_diff = max(elev.lat.values) - min(elev.lat.values)\n",
    "    long_diff = max(elev.long.values) - min(elev.long.values)\n",
    "    \n",
    "    # Sort values in order of whichever direction has max variance\n",
    "    if lat_diff > long_diff:\n",
    "        elev.sort_values(by='lat',inplace=True)\n",
    "    else:\n",
    "        elev.sort_values(by='long',inplace=True)\n",
    "        \n",
    "    # Calculate road grades per segment\n",
    "    grades = []\n",
    "    last_elev = elev.iloc[0].elev\n",
    "    for ix, point in elev.iterrows():\n",
    "        # For first point, just reset everything\n",
    "        if ix == 0:\n",
    "            last_elev, last_coord, diff, dist = reset_grades(point)\n",
    "        else:\n",
    "            # Calculate elevation change from most recent point\n",
    "            this_diff = point.elev - last_elev \n",
    "            # If there's no elevation change, add the last grade and reset\n",
    "            if this_diff == 0:\n",
    "                # Add the last difference and reset\n",
    "                if dist <= 5:\n",
    "                    grades.append(0)\n",
    "                else:\n",
    "                    grades.append(abs(diff/dist))\n",
    "                last_elev, last_coord, diff, dist = reset_grades(point)\n",
    "            # If this is our second point, we don't care what direction we're moving in\n",
    "            elif diff == 0:\n",
    "                diff = this_diff\n",
    "                dist = distance((point.lat,point.long),last_coord).ft\n",
    "                last_coord = (point.lat,point.long)\n",
    "            # If we're moving in the same direction, keep adding\n",
    "            elif np.sign(diff) == np.sign(this_diff):\n",
    "                diff += this_diff\n",
    "                dist += distance((point.lat,point.long),last_coord).ft\n",
    "                last_coord = (point.lat, point.long)\n",
    "                last_elev = point.elev\n",
    "            # If we're not moving in the same direction, add the last one and reset\n",
    "                if dist <= 5:\n",
    "                    grades.append(0)\n",
    "                # Add the last one\n",
    "                else:\n",
    "                    grades.append(abs(diff/dist))\n",
    "                # Reset\n",
    "                diff = this_diff\n",
    "                dist = distance((point.lat,point.long),last_coord).ft\n",
    "                last_coord = (point.lat,point.long)\n",
    "                last_elev = point.elev\n",
    "    # Add in the last elevation\n",
    "    if dist <= 5:\n",
    "        grades.append(0)\n",
    "    else:\n",
    "        grades.append(abs(diff/dist))\n",
    "        \n",
    "    road_grades[road] = max(grades)"
   ]
  },
  {
   "cell_type": "code",
   "execution_count": 55,
   "metadata": {},
   "outputs": [
    {
     "name": "stdout",
     "output_type": "stream",
     "text": [
      "2866 5047 10646\n"
     ]
    }
   ],
   "source": [
    "# with 10 ft min requirement\n",
    "r = pd.Series(road_grades)\n",
    "print(r[r>=0.1].shape[0],r[r>=0.05].shape[0],r[r<0.05].shape[0])"
   ]
  },
  {
   "cell_type": "code",
   "execution_count": 56,
   "metadata": {},
   "outputs": [],
   "source": [
    "r.to_csv('road_grades_by_segment.csv',header=['road_grade'], index_label = 'road_objectID')"
   ]
  },
  {
   "cell_type": "code",
   "execution_count": null,
   "metadata": {},
   "outputs": [],
   "source": []
  }
 ],
 "metadata": {
  "kernelspec": {
   "display_name": "Python 3",
   "language": "python",
   "name": "python3"
  },
  "language_info": {
   "codemirror_mode": {
    "name": "ipython",
    "version": 3
   },
   "file_extension": ".py",
   "mimetype": "text/x-python",
   "name": "python",
   "nbconvert_exporter": "python",
   "pygments_lexer": "ipython3",
   "version": "3.7.4"
  }
 },
 "nbformat": 4,
 "nbformat_minor": 2
}
