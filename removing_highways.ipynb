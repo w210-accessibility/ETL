{
 "cells": [
  {
   "cell_type": "code",
   "execution_count": 1,
   "metadata": {},
   "outputs": [],
   "source": [
    "import pandas as pd\n",
    "import numpy as np\n",
    "import s3fs\n",
    "import boto3\n",
    "from datetime import datetime"
   ]
  },
  {
   "cell_type": "markdown",
   "metadata": {},
   "source": [
    "## Identify Panos with highway views"
   ]
  },
  {
   "cell_type": "code",
   "execution_count": 125,
   "metadata": {},
   "outputs": [],
   "source": [
    "intersections = pd.read_csv('data/intersections_metadata.csv')\n",
    "intersect_panos_bridge = pd.read_csv('data/OutputLines_Intersection_bridge.csv', index_col = 2)\n",
    "roads = pd.read_csv('data/roads_metadata.csv', index_col=0)\n",
    "bridge = pd.read_csv('data/intersect_road_bridge.csv')"
   ]
  },
  {
   "cell_type": "code",
   "execution_count": 111,
   "metadata": {},
   "outputs": [
    {
     "data": {
      "text/html": [
       "<div>\n",
       "<style scoped>\n",
       "    .dataframe tbody tr th:only-of-type {\n",
       "        vertical-align: middle;\n",
       "    }\n",
       "\n",
       "    .dataframe tbody tr th {\n",
       "        vertical-align: top;\n",
       "    }\n",
       "\n",
       "    .dataframe thead th {\n",
       "        text-align: right;\n",
       "    }\n",
       "</style>\n",
       "<table border=\"1\" class=\"dataframe\">\n",
       "  <thead>\n",
       "    <tr style=\"text-align: right;\">\n",
       "      <th></th>\n",
       "      <th>OBJECTID</th>\n",
       "      <th>FID_OutputLines</th>\n",
       "    </tr>\n",
       "    <tr>\n",
       "      <th>FID_Intersections</th>\n",
       "      <th></th>\n",
       "      <th></th>\n",
       "    </tr>\n",
       "  </thead>\n",
       "  <tbody>\n",
       "    <tr>\n",
       "      <th>1</th>\n",
       "      <td>1</td>\n",
       "      <td>1</td>\n",
       "    </tr>\n",
       "    <tr>\n",
       "      <th>2</th>\n",
       "      <td>2</td>\n",
       "      <td>1</td>\n",
       "    </tr>\n",
       "    <tr>\n",
       "      <th>3</th>\n",
       "      <td>3</td>\n",
       "      <td>2</td>\n",
       "    </tr>\n",
       "    <tr>\n",
       "      <th>4</th>\n",
       "      <td>4</td>\n",
       "      <td>2</td>\n",
       "    </tr>\n",
       "    <tr>\n",
       "      <th>71</th>\n",
       "      <td>5</td>\n",
       "      <td>79</td>\n",
       "    </tr>\n",
       "  </tbody>\n",
       "</table>\n",
       "</div>"
      ],
      "text/plain": [
       "                   OBJECTID  FID_OutputLines\n",
       "FID_Intersections                           \n",
       "1                         1                1\n",
       "2                         2                1\n",
       "3                         3                2\n",
       "4                         4                2\n",
       "71                        5               79"
      ]
     },
     "execution_count": 111,
     "metadata": {},
     "output_type": "execute_result"
    }
   ],
   "source": [
    "intersect_panos_bridge.head()"
   ]
  },
  {
   "cell_type": "code",
   "execution_count": 113,
   "metadata": {},
   "outputs": [
    {
     "data": {
      "text/html": [
       "<div>\n",
       "<style scoped>\n",
       "    .dataframe tbody tr th:only-of-type {\n",
       "        vertical-align: middle;\n",
       "    }\n",
       "\n",
       "    .dataframe tbody tr th {\n",
       "        vertical-align: top;\n",
       "    }\n",
       "\n",
       "    .dataframe thead th {\n",
       "        text-align: right;\n",
       "    }\n",
       "</style>\n",
       "<table border=\"1\" class=\"dataframe\">\n",
       "  <thead>\n",
       "    <tr style=\"text-align: right;\">\n",
       "      <th></th>\n",
       "      <th>LINEARID</th>\n",
       "      <th>FULLNAME</th>\n",
       "      <th>RTTYP</th>\n",
       "      <th>MTFCC</th>\n",
       "      <th>LatStart</th>\n",
       "      <th>LongStart</th>\n",
       "      <th>LatEnd</th>\n",
       "      <th>LongEnd</th>\n",
       "      <th>SegLength</th>\n",
       "      <th>Shape_Length</th>\n",
       "    </tr>\n",
       "    <tr>\n",
       "      <th>OBJECTID</th>\n",
       "      <th></th>\n",
       "      <th></th>\n",
       "      <th></th>\n",
       "      <th></th>\n",
       "      <th></th>\n",
       "      <th></th>\n",
       "      <th></th>\n",
       "      <th></th>\n",
       "      <th></th>\n",
       "      <th></th>\n",
       "    </tr>\n",
       "  </thead>\n",
       "  <tbody>\n",
       "    <tr>\n",
       "      <th>1</th>\n",
       "      <td>1103690289752</td>\n",
       "      <td>19th St Pvt</td>\n",
       "      <td>M</td>\n",
       "      <td>S1400</td>\n",
       "      <td>42.956981</td>\n",
       "      <td>-87.937751</td>\n",
       "      <td>42.955854</td>\n",
       "      <td>-87.938082</td>\n",
       "      <td>156.708617</td>\n",
       "      <td>0.001402</td>\n",
       "    </tr>\n",
       "    <tr>\n",
       "      <th>2</th>\n",
       "      <td>1103410600564</td>\n",
       "      <td>19th St Pvt</td>\n",
       "      <td>M</td>\n",
       "      <td>S1400</td>\n",
       "      <td>42.956699</td>\n",
       "      <td>-87.936245</td>\n",
       "      <td>42.956981</td>\n",
       "      <td>-87.937751</td>\n",
       "      <td>142.039857</td>\n",
       "      <td>0.001554</td>\n",
       "    </tr>\n",
       "    <tr>\n",
       "      <th>3</th>\n",
       "      <td>1103690289751</td>\n",
       "      <td>19th St Pvt</td>\n",
       "      <td>M</td>\n",
       "      <td>S1400</td>\n",
       "      <td>42.957537</td>\n",
       "      <td>-87.938329</td>\n",
       "      <td>42.956981</td>\n",
       "      <td>-87.937751</td>\n",
       "      <td>107.863642</td>\n",
       "      <td>0.001024</td>\n",
       "    </tr>\n",
       "    <tr>\n",
       "      <th>4</th>\n",
       "      <td>1103410601970</td>\n",
       "      <td>19th St Pvt</td>\n",
       "      <td>M</td>\n",
       "      <td>S1400</td>\n",
       "      <td>42.955233</td>\n",
       "      <td>-87.937779</td>\n",
       "      <td>42.955852</td>\n",
       "      <td>-87.936670</td>\n",
       "      <td>133.319678</td>\n",
       "      <td>0.001358</td>\n",
       "    </tr>\n",
       "    <tr>\n",
       "      <th>5</th>\n",
       "      <td>110459340658</td>\n",
       "      <td>Upper Pkwy N</td>\n",
       "      <td>M</td>\n",
       "      <td>S1400</td>\n",
       "      <td>43.052964</td>\n",
       "      <td>-87.990042</td>\n",
       "      <td>43.052971</td>\n",
       "      <td>-87.992984</td>\n",
       "      <td>616.910245</td>\n",
       "      <td>0.003362</td>\n",
       "    </tr>\n",
       "  </tbody>\n",
       "</table>\n",
       "</div>"
      ],
      "text/plain": [
       "               LINEARID      FULLNAME RTTYP  MTFCC   LatStart  LongStart  \\\n",
       "OBJECTID                                                                   \n",
       "1         1103690289752   19th St Pvt     M  S1400  42.956981 -87.937751   \n",
       "2         1103410600564   19th St Pvt     M  S1400  42.956699 -87.936245   \n",
       "3         1103690289751   19th St Pvt     M  S1400  42.957537 -87.938329   \n",
       "4         1103410601970   19th St Pvt     M  S1400  42.955233 -87.937779   \n",
       "5          110459340658  Upper Pkwy N     M  S1400  43.052964 -87.990042   \n",
       "\n",
       "             LatEnd    LongEnd   SegLength  Shape_Length  \n",
       "OBJECTID                                                  \n",
       "1         42.955854 -87.938082  156.708617      0.001402  \n",
       "2         42.956981 -87.937751  142.039857      0.001554  \n",
       "3         42.956981 -87.937751  107.863642      0.001024  \n",
       "4         42.955852 -87.936670  133.319678      0.001358  \n",
       "5         43.052971 -87.992984  616.910245      0.003362  "
      ]
     },
     "execution_count": 113,
     "metadata": {},
     "output_type": "execute_result"
    }
   ],
   "source": [
    "roads.head()"
   ]
  },
  {
   "cell_type": "code",
   "execution_count": 25,
   "metadata": {},
   "outputs": [
    {
     "data": {
      "text/html": [
       "<div>\n",
       "<style scoped>\n",
       "    .dataframe tbody tr th:only-of-type {\n",
       "        vertical-align: middle;\n",
       "    }\n",
       "\n",
       "    .dataframe tbody tr th {\n",
       "        vertical-align: top;\n",
       "    }\n",
       "\n",
       "    .dataframe thead th {\n",
       "        text-align: right;\n",
       "    }\n",
       "</style>\n",
       "<table border=\"1\" class=\"dataframe\">\n",
       "  <thead>\n",
       "    <tr style=\"text-align: right;\">\n",
       "      <th></th>\n",
       "      <th>OBJECTID</th>\n",
       "      <th>FID_Intersections</th>\n",
       "      <th>FID_tl_2017_55079_roads_SplitLin</th>\n",
       "    </tr>\n",
       "  </thead>\n",
       "  <tbody>\n",
       "    <tr>\n",
       "      <th>0</th>\n",
       "      <td>1</td>\n",
       "      <td>1</td>\n",
       "      <td>3</td>\n",
       "    </tr>\n",
       "    <tr>\n",
       "      <th>1</th>\n",
       "      <td>2</td>\n",
       "      <td>1</td>\n",
       "      <td>5728</td>\n",
       "    </tr>\n",
       "    <tr>\n",
       "      <th>2</th>\n",
       "      <td>3</td>\n",
       "      <td>2</td>\n",
       "      <td>3</td>\n",
       "    </tr>\n",
       "    <tr>\n",
       "      <th>3</th>\n",
       "      <td>4</td>\n",
       "      <td>2</td>\n",
       "      <td>5728</td>\n",
       "    </tr>\n",
       "    <tr>\n",
       "      <th>4</th>\n",
       "      <td>5</td>\n",
       "      <td>3</td>\n",
       "      <td>4</td>\n",
       "    </tr>\n",
       "  </tbody>\n",
       "</table>\n",
       "</div>"
      ],
      "text/plain": [
       "   OBJECTID  FID_Intersections  FID_tl_2017_55079_roads_SplitLin\n",
       "0         1                  1                                 3\n",
       "1         2                  1                              5728\n",
       "2         3                  2                                 3\n",
       "3         4                  2                              5728\n",
       "4         5                  3                                 4"
      ]
     },
     "execution_count": 25,
     "metadata": {},
     "output_type": "execute_result"
    }
   ],
   "source": [
    "bridge.head()"
   ]
  },
  {
   "cell_type": "code",
   "execution_count": 129,
   "metadata": {},
   "outputs": [],
   "source": [
    "df = bridge.join(roads,on='FID_tl_2017_55079_roads_SplitLin')\n",
    "df = df.join(intersect_panos_bridge, on='FID_Intersections', rsuffix='_1')"
   ]
  },
  {
   "cell_type": "code",
   "execution_count": 131,
   "metadata": {},
   "outputs": [],
   "source": [
    "df = df[['OBJECTID', 'FULLNAME','FID_Intersections', 'RTTYP', 'FID_OutputLines']]\n",
    "df.columns = ['OBJECTID', 'FULLNAME', 'FID_Intersections', 'RTTYP', 'Pano_ID']"
   ]
  },
  {
   "cell_type": "code",
   "execution_count": null,
   "metadata": {},
   "outputs": [],
   "source": [
    "panos_to_remove = df[(df.FULLNAME == ' ') | (df.RTTYP == \"I\")].Pano_ID.values\n",
    "panos_to_remove = [int(x) for x in panos_to_remove if ~np.isnan(x)]\n",
    "panos_to_remove = np.unique(panos_to_remove)\n",
    "len(panos_to_remove)"
   ]
  },
  {
   "cell_type": "code",
   "execution_count": 133,
   "metadata": {},
   "outputs": [],
   "source": [
    "pd.Series(panos_to_remove).to_csv('data/interstates.csv', header=['Pano_ID'])"
   ]
  },
  {
   "cell_type": "markdown",
   "metadata": {},
   "source": [
    "## Delete Highways from S3 bucket"
   ]
  },
  {
   "cell_type": "code",
   "execution_count": 134,
   "metadata": {},
   "outputs": [],
   "source": [
    "# Create list of filenames:\n",
    "fnames = []\n",
    "for pano in panos_to_remove:\n",
    "    prefix = 'gsv/' + str(pano)\n",
    "    fnames.append( prefix + '.json')\n",
    "    for view in ['_45','_135','_225','_315']:\n",
    "        fnames.append(prefix + view + '.jpg')\n"
   ]
  },
  {
   "cell_type": "code",
   "execution_count": null,
   "metadata": {},
   "outputs": [
    {
     "name": "stdout",
     "output_type": "stream",
     "text": [
      "gsv/2083_315.jpg\n",
      "gsv/2207_225.jpg\n",
      "gsv/2275_315.jpg\n",
      "gsv/2278_45.jpg\n",
      "gsv/2280_135.jpg\n",
      "gsv/2287.json\n",
      "gsv/2288_135.jpg\n",
      "gsv/2289_315.jpg\n",
      "gsv/2291_225.jpg\n",
      "gsv/2293.json\n",
      "gsv/2294_315.jpg\n",
      "gsv/2296_45.jpg\n",
      "gsv/2454_315.jpg\n"
     ]
    }
   ],
   "source": [
    "# Delete bad images from GSV\n",
    "bucket_name = 'streetview-w210'\n",
    "s3 = boto3.resource('s3')\n",
    "start = datetime.now()\n",
    "\n",
    "for i,fname in enumerate(fnames):\n",
    "    try:\n",
    "        s3.Object(bucket_name, fname).delete()\n",
    "    except:\n",
    "        print(fname)\n",
    "\n",
    "print(datetime.now()-start)"
   ]
  },
  {
   "cell_type": "markdown",
   "metadata": {},
   "source": [
    "## Delete from Metadata and labeling files"
   ]
  },
  {
   "cell_type": "code",
   "execution_count": 75,
   "metadata": {},
   "outputs": [],
   "source": [
    "# Delete from metadata files:\n",
    "meta_with_depth = pd.read_csv('data/meta_with_depth.csv', index_col = 0)"
   ]
  },
  {
   "cell_type": "code",
   "execution_count": 76,
   "metadata": {},
   "outputs": [
    {
     "data": {
      "text/html": [
       "<div>\n",
       "<style scoped>\n",
       "    .dataframe tbody tr th:only-of-type {\n",
       "        vertical-align: middle;\n",
       "    }\n",
       "\n",
       "    .dataframe tbody tr th {\n",
       "        vertical-align: top;\n",
       "    }\n",
       "\n",
       "    .dataframe thead th {\n",
       "        text-align: right;\n",
       "    }\n",
       "</style>\n",
       "<table border=\"1\" class=\"dataframe\">\n",
       "  <thead>\n",
       "    <tr style=\"text-align: right;\">\n",
       "      <th></th>\n",
       "      <th>date</th>\n",
       "      <th>lat</th>\n",
       "      <th>long</th>\n",
       "      <th>pano_id</th>\n",
       "      <th>name</th>\n",
       "      <th>pano_yaw_deg</th>\n",
       "      <th>tilt_yaw_deg</th>\n",
       "      <th>tilt_pitch_deg</th>\n",
       "    </tr>\n",
       "  </thead>\n",
       "  <tbody>\n",
       "    <tr>\n",
       "      <th>0</th>\n",
       "      <td>2019-06</td>\n",
       "      <td>42.957503</td>\n",
       "      <td>-87.938367</td>\n",
       "      <td>XPRpjNDhowVo8zvqvSU1CA</td>\n",
       "      <td>1</td>\n",
       "      <td>91.979996</td>\n",
       "      <td>125.040000</td>\n",
       "      <td>0.83</td>\n",
       "    </tr>\n",
       "    <tr>\n",
       "      <th>1</th>\n",
       "      <td>2016-10</td>\n",
       "      <td>42.899259</td>\n",
       "      <td>-88.047098</td>\n",
       "      <td>iEyn0apLSZvl4i4alUbfcA</td>\n",
       "      <td>10</td>\n",
       "      <td>145.819990</td>\n",
       "      <td>-178.269990</td>\n",
       "      <td>1.06</td>\n",
       "    </tr>\n",
       "    <tr>\n",
       "      <th>2</th>\n",
       "      <td>2011-08</td>\n",
       "      <td>42.921614</td>\n",
       "      <td>-87.881025</td>\n",
       "      <td>1BzC3WoFeJ8U1aUT9Hx8mg</td>\n",
       "      <td>100</td>\n",
       "      <td>359.180000</td>\n",
       "      <td>30.769999</td>\n",
       "      <td>2.55</td>\n",
       "    </tr>\n",
       "    <tr>\n",
       "      <th>3</th>\n",
       "      <td>2018-09</td>\n",
       "      <td>43.050123</td>\n",
       "      <td>-88.040263</td>\n",
       "      <td>oRN5vilebPS0srDXRPylzw</td>\n",
       "      <td>1000</td>\n",
       "      <td>161.110000</td>\n",
       "      <td>67.549995</td>\n",
       "      <td>1.57</td>\n",
       "    </tr>\n",
       "    <tr>\n",
       "      <th>4</th>\n",
       "      <td>2019-05</td>\n",
       "      <td>42.959289</td>\n",
       "      <td>-88.026043</td>\n",
       "      <td>KimNSirhP1TzngZkSpc8UA</td>\n",
       "      <td>10000</td>\n",
       "      <td>270.060000</td>\n",
       "      <td>-114.810000</td>\n",
       "      <td>1.35</td>\n",
       "    </tr>\n",
       "  </tbody>\n",
       "</table>\n",
       "</div>"
      ],
      "text/plain": [
       "      date        lat       long                 pano_id   name  pano_yaw_deg  \\\n",
       "0  2019-06  42.957503 -87.938367  XPRpjNDhowVo8zvqvSU1CA      1     91.979996   \n",
       "1  2016-10  42.899259 -88.047098  iEyn0apLSZvl4i4alUbfcA     10    145.819990   \n",
       "2  2011-08  42.921614 -87.881025  1BzC3WoFeJ8U1aUT9Hx8mg    100    359.180000   \n",
       "3  2018-09  43.050123 -88.040263  oRN5vilebPS0srDXRPylzw   1000    161.110000   \n",
       "4  2019-05  42.959289 -88.026043  KimNSirhP1TzngZkSpc8UA  10000    270.060000   \n",
       "\n",
       "   tilt_yaw_deg  tilt_pitch_deg  \n",
       "0    125.040000            0.83  \n",
       "1   -178.269990            1.06  \n",
       "2     30.769999            2.55  \n",
       "3     67.549995            1.57  \n",
       "4   -114.810000            1.35  "
      ]
     },
     "execution_count": 76,
     "metadata": {},
     "output_type": "execute_result"
    }
   ],
   "source": [
    "meta_with_depth.head()"
   ]
  },
  {
   "cell_type": "code",
   "execution_count": 77,
   "metadata": {},
   "outputs": [
    {
     "data": {
      "text/plain": [
       "(19325, 8)"
      ]
     },
     "execution_count": 77,
     "metadata": {},
     "output_type": "execute_result"
    }
   ],
   "source": [
    "meta_with_depth.shape"
   ]
  },
  {
   "cell_type": "code",
   "execution_count": 78,
   "metadata": {},
   "outputs": [],
   "source": [
    "meta_with_depth = meta_with_depth[~(meta_with_depth.name.isin(panos_to_remove))]"
   ]
  },
  {
   "cell_type": "code",
   "execution_count": 79,
   "metadata": {},
   "outputs": [
    {
     "data": {
      "text/plain": [
       "(19022, 8)"
      ]
     },
     "execution_count": 79,
     "metadata": {},
     "output_type": "execute_result"
    }
   ],
   "source": [
    "meta_with_depth.shape"
   ]
  },
  {
   "cell_type": "code",
   "execution_count": 81,
   "metadata": {},
   "outputs": [],
   "source": [
    "meta_with_depth.to_csv('data/meta_with_depth.csv')"
   ]
  },
  {
   "cell_type": "code",
   "execution_count": 82,
   "metadata": {},
   "outputs": [
    {
     "data": {
      "text/html": [
       "<div>\n",
       "<style scoped>\n",
       "    .dataframe tbody tr th:only-of-type {\n",
       "        vertical-align: middle;\n",
       "    }\n",
       "\n",
       "    .dataframe tbody tr th {\n",
       "        vertical-align: top;\n",
       "    }\n",
       "\n",
       "    .dataframe thead th {\n",
       "        text-align: right;\n",
       "    }\n",
       "</style>\n",
       "<table border=\"1\" class=\"dataframe\">\n",
       "  <thead>\n",
       "    <tr style=\"text-align: right;\">\n",
       "      <th></th>\n",
       "      <th>filename</th>\n",
       "      <th>file_size</th>\n",
       "      <th>file_attributes</th>\n",
       "      <th>region_count</th>\n",
       "      <th>region_id</th>\n",
       "      <th>region_shape_attributes</th>\n",
       "      <th>region_attributes</th>\n",
       "    </tr>\n",
       "  </thead>\n",
       "  <tbody>\n",
       "    <tr>\n",
       "      <th>0</th>\n",
       "      <td>680_45.jpg</td>\n",
       "      <td>49558</td>\n",
       "      <td>{}</td>\n",
       "      <td>3</td>\n",
       "      <td>0</td>\n",
       "      <td>{\"name\":\"point\",\"cx\":108,\"cy\":389}</td>\n",
       "      <td>{\"Present Curb Ramp\":\"1\\n\"}</td>\n",
       "    </tr>\n",
       "    <tr>\n",
       "      <th>1</th>\n",
       "      <td>680_45.jpg</td>\n",
       "      <td>49558</td>\n",
       "      <td>{}</td>\n",
       "      <td>3</td>\n",
       "      <td>1</td>\n",
       "      <td>{\"name\":\"point\",\"cx\":160,\"cy\":389}</td>\n",
       "      <td>{\"Present Curb Ramp\":\"1\"}</td>\n",
       "    </tr>\n",
       "    <tr>\n",
       "      <th>2</th>\n",
       "      <td>680_45.jpg</td>\n",
       "      <td>49558</td>\n",
       "      <td>{}</td>\n",
       "      <td>3</td>\n",
       "      <td>2</td>\n",
       "      <td>{\"name\":\"point\",\"cx\":607,\"cy\":453}</td>\n",
       "      <td>{\"Present Curb Ramp\":\"1\"}</td>\n",
       "    </tr>\n",
       "    <tr>\n",
       "      <th>3</th>\n",
       "      <td>680_135.jpg</td>\n",
       "      <td>51194</td>\n",
       "      <td>{}</td>\n",
       "      <td>6</td>\n",
       "      <td>0</td>\n",
       "      <td>{\"name\":\"point\",\"cx\":18,\"cy\":475}</td>\n",
       "      <td>{\"Present Curb Ramp\":\"1\"}</td>\n",
       "    </tr>\n",
       "    <tr>\n",
       "      <th>4</th>\n",
       "      <td>680_135.jpg</td>\n",
       "      <td>51194</td>\n",
       "      <td>{}</td>\n",
       "      <td>6</td>\n",
       "      <td>1</td>\n",
       "      <td>{\"name\":\"point\",\"cx\":245,\"cy\":413}</td>\n",
       "      <td>{\"Present Curb Ramp\":\"1\"}</td>\n",
       "    </tr>\n",
       "  </tbody>\n",
       "</table>\n",
       "</div>"
      ],
      "text/plain": [
       "      filename  file_size file_attributes  region_count  region_id  \\\n",
       "0   680_45.jpg      49558              {}             3          0   \n",
       "1   680_45.jpg      49558              {}             3          1   \n",
       "2   680_45.jpg      49558              {}             3          2   \n",
       "3  680_135.jpg      51194              {}             6          0   \n",
       "4  680_135.jpg      51194              {}             6          1   \n",
       "\n",
       "              region_shape_attributes            region_attributes  \n",
       "0  {\"name\":\"point\",\"cx\":108,\"cy\":389}  {\"Present Curb Ramp\":\"1\\n\"}  \n",
       "1  {\"name\":\"point\",\"cx\":160,\"cy\":389}    {\"Present Curb Ramp\":\"1\"}  \n",
       "2  {\"name\":\"point\",\"cx\":607,\"cy\":453}    {\"Present Curb Ramp\":\"1\"}  \n",
       "3   {\"name\":\"point\",\"cx\":18,\"cy\":475}    {\"Present Curb Ramp\":\"1\"}  \n",
       "4  {\"name\":\"point\",\"cx\":245,\"cy\":413}    {\"Present Curb Ramp\":\"1\"}  "
      ]
     },
     "execution_count": 82,
     "metadata": {},
     "output_type": "execute_result"
    }
   ],
   "source": [
    "labels = pd.read_csv('data/all_labels.csv')\n",
    "labels.head()"
   ]
  },
  {
   "cell_type": "code",
   "execution_count": 95,
   "metadata": {},
   "outputs": [],
   "source": [
    "labels['img_id'] = [int(x.split('_')[0]) for x in labels.filename.values]"
   ]
  },
  {
   "cell_type": "code",
   "execution_count": 96,
   "metadata": {},
   "outputs": [
    {
     "data": {
      "text/html": [
       "<div>\n",
       "<style scoped>\n",
       "    .dataframe tbody tr th:only-of-type {\n",
       "        vertical-align: middle;\n",
       "    }\n",
       "\n",
       "    .dataframe tbody tr th {\n",
       "        vertical-align: top;\n",
       "    }\n",
       "\n",
       "    .dataframe thead th {\n",
       "        text-align: right;\n",
       "    }\n",
       "</style>\n",
       "<table border=\"1\" class=\"dataframe\">\n",
       "  <thead>\n",
       "    <tr style=\"text-align: right;\">\n",
       "      <th></th>\n",
       "      <th>filename</th>\n",
       "      <th>file_size</th>\n",
       "      <th>file_attributes</th>\n",
       "      <th>region_count</th>\n",
       "      <th>region_id</th>\n",
       "      <th>region_shape_attributes</th>\n",
       "      <th>region_attributes</th>\n",
       "      <th>img_id</th>\n",
       "    </tr>\n",
       "  </thead>\n",
       "  <tbody>\n",
       "    <tr>\n",
       "      <th>0</th>\n",
       "      <td>680_45.jpg</td>\n",
       "      <td>49558</td>\n",
       "      <td>{}</td>\n",
       "      <td>3</td>\n",
       "      <td>0</td>\n",
       "      <td>{\"name\":\"point\",\"cx\":108,\"cy\":389}</td>\n",
       "      <td>{\"Present Curb Ramp\":\"1\\n\"}</td>\n",
       "      <td>680</td>\n",
       "    </tr>\n",
       "    <tr>\n",
       "      <th>1</th>\n",
       "      <td>680_45.jpg</td>\n",
       "      <td>49558</td>\n",
       "      <td>{}</td>\n",
       "      <td>3</td>\n",
       "      <td>1</td>\n",
       "      <td>{\"name\":\"point\",\"cx\":160,\"cy\":389}</td>\n",
       "      <td>{\"Present Curb Ramp\":\"1\"}</td>\n",
       "      <td>680</td>\n",
       "    </tr>\n",
       "    <tr>\n",
       "      <th>2</th>\n",
       "      <td>680_45.jpg</td>\n",
       "      <td>49558</td>\n",
       "      <td>{}</td>\n",
       "      <td>3</td>\n",
       "      <td>2</td>\n",
       "      <td>{\"name\":\"point\",\"cx\":607,\"cy\":453}</td>\n",
       "      <td>{\"Present Curb Ramp\":\"1\"}</td>\n",
       "      <td>680</td>\n",
       "    </tr>\n",
       "    <tr>\n",
       "      <th>3</th>\n",
       "      <td>680_135.jpg</td>\n",
       "      <td>51194</td>\n",
       "      <td>{}</td>\n",
       "      <td>6</td>\n",
       "      <td>0</td>\n",
       "      <td>{\"name\":\"point\",\"cx\":18,\"cy\":475}</td>\n",
       "      <td>{\"Present Curb Ramp\":\"1\"}</td>\n",
       "      <td>680</td>\n",
       "    </tr>\n",
       "    <tr>\n",
       "      <th>4</th>\n",
       "      <td>680_135.jpg</td>\n",
       "      <td>51194</td>\n",
       "      <td>{}</td>\n",
       "      <td>6</td>\n",
       "      <td>1</td>\n",
       "      <td>{\"name\":\"point\",\"cx\":245,\"cy\":413}</td>\n",
       "      <td>{\"Present Curb Ramp\":\"1\"}</td>\n",
       "      <td>680</td>\n",
       "    </tr>\n",
       "  </tbody>\n",
       "</table>\n",
       "</div>"
      ],
      "text/plain": [
       "      filename  file_size file_attributes  region_count  region_id  \\\n",
       "0   680_45.jpg      49558              {}             3          0   \n",
       "1   680_45.jpg      49558              {}             3          1   \n",
       "2   680_45.jpg      49558              {}             3          2   \n",
       "3  680_135.jpg      51194              {}             6          0   \n",
       "4  680_135.jpg      51194              {}             6          1   \n",
       "\n",
       "              region_shape_attributes            region_attributes  img_id  \n",
       "0  {\"name\":\"point\",\"cx\":108,\"cy\":389}  {\"Present Curb Ramp\":\"1\\n\"}     680  \n",
       "1  {\"name\":\"point\",\"cx\":160,\"cy\":389}    {\"Present Curb Ramp\":\"1\"}     680  \n",
       "2  {\"name\":\"point\",\"cx\":607,\"cy\":453}    {\"Present Curb Ramp\":\"1\"}     680  \n",
       "3   {\"name\":\"point\",\"cx\":18,\"cy\":475}    {\"Present Curb Ramp\":\"1\"}     680  \n",
       "4  {\"name\":\"point\",\"cx\":245,\"cy\":413}    {\"Present Curb Ramp\":\"1\"}     680  "
      ]
     },
     "execution_count": 96,
     "metadata": {},
     "output_type": "execute_result"
    }
   ],
   "source": [
    "labels.head()"
   ]
  },
  {
   "cell_type": "code",
   "execution_count": 97,
   "metadata": {},
   "outputs": [
    {
     "data": {
      "text/plain": [
       "(3480, 8)"
      ]
     },
     "execution_count": 97,
     "metadata": {},
     "output_type": "execute_result"
    }
   ],
   "source": [
    "labels.shape"
   ]
  },
  {
   "cell_type": "code",
   "execution_count": 98,
   "metadata": {},
   "outputs": [
    {
     "data": {
      "text/plain": [
       "(3440, 8)"
      ]
     },
     "execution_count": 98,
     "metadata": {},
     "output_type": "execute_result"
    }
   ],
   "source": [
    "labels = labels[~(labels.img_id.isin(panos_to_remove))]\n",
    "labels.shape"
   ]
  },
  {
   "cell_type": "code",
   "execution_count": 99,
   "metadata": {},
   "outputs": [],
   "source": [
    "labels.to_csv('data/all_labels.csv', index=False)"
   ]
  },
  {
   "cell_type": "code",
   "execution_count": 108,
   "metadata": {},
   "outputs": [
    {
     "data": {
      "text/html": [
       "<div>\n",
       "<style scoped>\n",
       "    .dataframe tbody tr th:only-of-type {\n",
       "        vertical-align: middle;\n",
       "    }\n",
       "\n",
       "    .dataframe tbody tr th {\n",
       "        vertical-align: top;\n",
       "    }\n",
       "\n",
       "    .dataframe thead th {\n",
       "        text-align: right;\n",
       "    }\n",
       "</style>\n",
       "<table border=\"1\" class=\"dataframe\">\n",
       "  <thead>\n",
       "    <tr style=\"text-align: right;\">\n",
       "      <th></th>\n",
       "      <th>OBJECTID</th>\n",
       "      <th>FID_Intersections</th>\n",
       "      <th>RTTYP</th>\n",
       "      <th>Pano_ID</th>\n",
       "    </tr>\n",
       "  </thead>\n",
       "  <tbody>\n",
       "    <tr>\n",
       "      <th>0</th>\n",
       "      <td>1</td>\n",
       "      <td>1</td>\n",
       "      <td>M</td>\n",
       "      <td>1.0</td>\n",
       "    </tr>\n",
       "    <tr>\n",
       "      <th>1</th>\n",
       "      <td>2</td>\n",
       "      <td>1</td>\n",
       "      <td></td>\n",
       "      <td>1.0</td>\n",
       "    </tr>\n",
       "    <tr>\n",
       "      <th>2</th>\n",
       "      <td>3</td>\n",
       "      <td>2</td>\n",
       "      <td>M</td>\n",
       "      <td>1.0</td>\n",
       "    </tr>\n",
       "    <tr>\n",
       "      <th>3</th>\n",
       "      <td>4</td>\n",
       "      <td>2</td>\n",
       "      <td></td>\n",
       "      <td>1.0</td>\n",
       "    </tr>\n",
       "    <tr>\n",
       "      <th>4</th>\n",
       "      <td>5</td>\n",
       "      <td>3</td>\n",
       "      <td>M</td>\n",
       "      <td>2.0</td>\n",
       "    </tr>\n",
       "  </tbody>\n",
       "</table>\n",
       "</div>"
      ],
      "text/plain": [
       "   OBJECTID  FID_Intersections RTTYP  Pano_ID\n",
       "0         1                  1     M      1.0\n",
       "1         2                  1            1.0\n",
       "2         3                  2     M      1.0\n",
       "3         4                  2            1.0\n",
       "4         5                  3     M      2.0"
      ]
     },
     "execution_count": 108,
     "metadata": {},
     "output_type": "execute_result"
    }
   ],
   "source": [
    "df[(pano_id)]"
   ]
  },
  {
   "cell_type": "code",
   "execution_count": null,
   "metadata": {},
   "outputs": [],
   "source": []
  }
 ],
 "metadata": {
  "kernelspec": {
   "display_name": "Python 3",
   "language": "python",
   "name": "python3"
  },
  "language_info": {
   "codemirror_mode": {
    "name": "ipython",
    "version": 3
   },
   "file_extension": ".py",
   "mimetype": "text/x-python",
   "name": "python",
   "nbconvert_exporter": "python",
   "pygments_lexer": "ipython3",
   "version": "3.7.4"
  }
 },
 "nbformat": 4,
 "nbformat_minor": 4
}
