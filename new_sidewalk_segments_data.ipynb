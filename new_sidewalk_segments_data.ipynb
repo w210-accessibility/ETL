{
 "cells": [
  {
   "cell_type": "code",
   "execution_count": 1,
   "metadata": {
    "collapsed": true
   },
   "outputs": [],
   "source": [
    "import pandas as pd\n",
    "import geopandas as gpd\n",
    "from shapely.geometry import Point, Polygon\n",
    "from statistics import mean \n",
    "import json"
   ]
  },
  {
   "cell_type": "code",
   "execution_count": 2,
   "metadata": {
    "collapsed": true
   },
   "outputs": [],
   "source": [
    "right_json = gpd.read_file(\"right_sidewalk.json\")\n",
    "left_json = gpd.read_file(\"left_sidewalk.json\")"
   ]
  },
  {
   "cell_type": "code",
   "execution_count": 3,
   "metadata": {
    "collapsed": true
   },
   "outputs": [],
   "source": [
    "city_limits = gpd.read_file('citylimit.geojson')\n",
    "city_polygon = city_limits['geometry'][0]"
   ]
  },
  {
   "cell_type": "code",
   "execution_count": 4,
   "metadata": {
    "collapsed": true
   },
   "outputs": [],
   "source": [
    "# add columns for lat/longs in point form\n",
    "def make_point(row, lat, long):\n",
    "    return Point(row[long], row[lat])\n",
    "\n",
    "right_json['startPoint'] = right_json.apply(make_point, axis=1, args=('LatStart', 'LongStart',))\n",
    "right_json['endPoint'] = right_json.apply(make_point, axis=1, args=('LatEnd', 'LongEnd',))\n",
    "left_json['startPoint'] = left_json.apply(make_point, axis=1, args=('LatStart', 'LongStart',))\n",
    "left_json['endPoint'] = left_json.apply(make_point, axis=1, args=('LatEnd', 'LongEnd',))\n",
    "\n",
    "def start_or_end_in_city_limits(row):\n",
    "    return (row['startPoint'].within(city_polygon) or row['endPoint'].within(city_polygon))\n",
    "\n",
    "right_json = right_json[right_json.apply(start_or_end_in_city_limits, axis=1)]\n",
    "left_json = left_json[left_json.apply(start_or_end_in_city_limits, axis=1)]\n",
    "\n",
    "assert len(right_json)==len(left_json)"
   ]
  },
  {
   "cell_type": "code",
   "execution_count": 5,
   "metadata": {
    "collapsed": true
   },
   "outputs": [],
   "source": [
    "right_json = right_json.reset_index()\n",
    "left_json = left_json.reset_index()"
   ]
  },
  {
   "cell_type": "code",
   "execution_count": 6,
   "metadata": {
    "collapsed": true
   },
   "outputs": [],
   "source": [
    "r_dirs = []\n",
    "l_dirs = []\n",
    "for idx in range(len(left_json)):\n",
    "    try:\n",
    "        r_dir = \"\"\n",
    "        l_dir = \"\"\n",
    "\n",
    "        l_coord_list = list(left_json['geometry'][idx].coords)\n",
    "        l_lat_avg = mean([a[1] for a in l_coord_list])\n",
    "        l_long_avg = mean([a[0] for a in l_coord_list])\n",
    "\n",
    "        r_coord_list = list(right_json['geometry'][idx].coords)\n",
    "        r_lat_avg = mean([a[1] for a in r_coord_list])\n",
    "        r_long_avg = mean([a[0] for a in r_coord_list])\n",
    "\n",
    "        lat_dist = l_lat_avg - r_lat_avg\n",
    "        long_dist = l_long_avg - r_long_avg\n",
    "\n",
    "        if abs(lat_dist) > abs(long_dist):\n",
    "            if lat_dist > 0:\n",
    "                l_dir = \"N\"\n",
    "                r_dir = \"S\"\n",
    "            else:\n",
    "                l_dir = \"S\"\n",
    "                r_dir = \"N\"\n",
    "        else:\n",
    "            if long_dist > 0:\n",
    "                # gets more negative as you move east\n",
    "                # so if left long is greater than right long \n",
    "                # that means it's less negative\n",
    "                # so left is west\n",
    "                l_dir = \"W\"\n",
    "                r_dir = \"E\"\n",
    "            else:\n",
    "                l_dir = \"E\"\n",
    "                r_dir = \"W\"\n",
    "\n",
    "        r_dirs.append(r_dir)\n",
    "        l_dirs.append(l_dir)\n",
    "    except Exception as ex:\n",
    "        print(\"skipping idx {}\".format(idx))\n",
    "        print(ex)"
   ]
  },
  {
   "cell_type": "code",
   "execution_count": 7,
   "metadata": {
    "collapsed": true
   },
   "outputs": [],
   "source": [
    "right_json['whichArgisFile'] = 'right'\n",
    "left_json['whichArgisFile'] = 'left'"
   ]
  },
  {
   "cell_type": "code",
   "execution_count": 44,
   "metadata": {
    "collapsed": true
   },
   "outputs": [],
   "source": [
    "## Make new dataframe, which is the one we'll actually import into sql \n",
    "df_to_load = pd.DataFrame()\n",
    "df_to_load['segmentId'] = right_json['OBJECTID'].append(left_json['OBJECTID'])\n",
    "df_to_load['directionInd'] = pd.Series(r_dirs).append(pd.Series(l_dirs))\n",
    "df_to_load['linearId'] = right_json['LINEARID'].append(left_json['LINEARID'])\n",
    "df_to_load['streetName'] = right_json['FULLNAME'].append(left_json['FULLNAME'])\n",
    "df_to_load['startLat'] = right_json['LatStart'].append(left_json['LatStart'])\n",
    "df_to_load['startLong'] = right_json['LongStart'].append(left_json['LongStart'])\n",
    "df_to_load['endLat'] = right_json['LatEnd'].append(left_json['LatEnd'])\n",
    "df_to_load['endLong'] = right_json['LongEnd'].append(left_json['LongEnd'])"
   ]
  },
  {
   "cell_type": "code",
   "execution_count": 74,
   "metadata": {
    "collapsed": true
   },
   "outputs": [],
   "source": [
    "# keeping this one separate because it takes a little while \n",
    "df_to_load['geoJson'] = right_json['geometry'].append(left_json['geometry'])\n",
    "def turn_to_geojson(row):\n",
    "    return json.dumps(gpd.GeoSeries([row['geoJson']]).__geo_interface__)\n",
    "\n",
    "df_to_load['geoJson'] = df_to_load.apply(turn_to_geojson, axis=1)"
   ]
  },
  {
   "cell_type": "code",
   "execution_count": 54,
   "metadata": {
    "collapsed": true
   },
   "outputs": [],
   "source": [
    "df_to_load['whichArcgisFile'] = right_json['whichArgisFile'].append(left_json['whichArgisFile'])"
   ]
  },
  {
   "cell_type": "code",
   "execution_count": 55,
   "metadata": {},
   "outputs": [
    {
     "data": {
      "text/html": [
       "<div>\n",
       "<style scoped>\n",
       "    .dataframe tbody tr th:only-of-type {\n",
       "        vertical-align: middle;\n",
       "    }\n",
       "\n",
       "    .dataframe tbody tr th {\n",
       "        vertical-align: top;\n",
       "    }\n",
       "\n",
       "    .dataframe thead th {\n",
       "        text-align: right;\n",
       "    }\n",
       "</style>\n",
       "<table border=\"1\" class=\"dataframe\">\n",
       "  <thead>\n",
       "    <tr style=\"text-align: right;\">\n",
       "      <th></th>\n",
       "      <th>segmentId</th>\n",
       "      <th>directionInd</th>\n",
       "      <th>linearId</th>\n",
       "      <th>streetName</th>\n",
       "      <th>startLat</th>\n",
       "      <th>startLong</th>\n",
       "      <th>endLat</th>\n",
       "      <th>endLong</th>\n",
       "      <th>geoJson</th>\n",
       "      <th>whichArcgisFile</th>\n",
       "    </tr>\n",
       "  </thead>\n",
       "  <tbody>\n",
       "    <tr>\n",
       "      <th>20863</th>\n",
       "      <td>38027</td>\n",
       "      <td>W</td>\n",
       "      <td>1103676879311</td>\n",
       "      <td>N 44th St</td>\n",
       "      <td>43.094611</td>\n",
       "      <td>-87.968921</td>\n",
       "      <td>43.095039</td>\n",
       "      <td>-87.96893</td>\n",
       "      <td>LINESTRING (-87.96886 43.09461, -87.96885 43.0...</td>\n",
       "      <td>right</td>\n",
       "    </tr>\n",
       "    <tr>\n",
       "      <th>20863</th>\n",
       "      <td>38027</td>\n",
       "      <td>E</td>\n",
       "      <td>1103676879311</td>\n",
       "      <td>N 44th St</td>\n",
       "      <td>43.094611</td>\n",
       "      <td>-87.968921</td>\n",
       "      <td>43.095039</td>\n",
       "      <td>-87.96893</td>\n",
       "      <td>LINESTRING (-87.96894 43.09462, -87.96893 43.0...</td>\n",
       "      <td>left</td>\n",
       "    </tr>\n",
       "  </tbody>\n",
       "</table>\n",
       "</div>"
      ],
      "text/plain": [
       "       segmentId directionInd       linearId streetName   startLat  startLong  \\\n",
       "20863      38027            W  1103676879311  N 44th St  43.094611 -87.968921   \n",
       "20863      38027            E  1103676879311  N 44th St  43.094611 -87.968921   \n",
       "\n",
       "          endLat   endLong                                            geoJson  \\\n",
       "20863  43.095039 -87.96893  LINESTRING (-87.96886 43.09461, -87.96885 43.0...   \n",
       "20863  43.095039 -87.96893  LINESTRING (-87.96894 43.09462, -87.96893 43.0...   \n",
       "\n",
       "      whichArcgisFile  \n",
       "20863           right  \n",
       "20863            left  "
      ]
     },
     "execution_count": 55,
     "metadata": {},
     "output_type": "execute_result"
    },
    {
     "data": {
      "text/html": [
       "<div>\n",
       "<style scoped>\n",
       "    .dataframe tbody tr th:only-of-type {\n",
       "        vertical-align: middle;\n",
       "    }\n",
       "\n",
       "    .dataframe tbody tr th {\n",
       "        vertical-align: top;\n",
       "    }\n",
       "\n",
       "    .dataframe thead th {\n",
       "        text-align: right;\n",
       "    }\n",
       "</style>\n",
       "<table border=\"1\" class=\"dataframe\">\n",
       "  <thead>\n",
       "    <tr style=\"text-align: right;\">\n",
       "      <th></th>\n",
       "      <th>segmentId</th>\n",
       "      <th>directionInd</th>\n",
       "      <th>linearId</th>\n",
       "      <th>streetName</th>\n",
       "      <th>startLat</th>\n",
       "      <th>startLong</th>\n",
       "      <th>endLat</th>\n",
       "      <th>endLong</th>\n",
       "      <th>geoJson</th>\n",
       "      <th>whichArcgisFile</th>\n",
       "    </tr>\n",
       "  </thead>\n",
       "  <tbody>\n",
       "    <tr>\n",
       "      <th>20863</th>\n",
       "      <td>38027</td>\n",
       "      <td>W</td>\n",
       "      <td>1103676879311</td>\n",
       "      <td>N 44th St</td>\n",
       "      <td>43.094611</td>\n",
       "      <td>-87.968921</td>\n",
       "      <td>43.095039</td>\n",
       "      <td>-87.96893</td>\n",
       "      <td>LINESTRING (-87.96886 43.09461, -87.96885 43.0...</td>\n",
       "      <td>right</td>\n",
       "    </tr>\n",
       "    <tr>\n",
       "      <th>20863</th>\n",
       "      <td>38027</td>\n",
       "      <td>E</td>\n",
       "      <td>1103676879311</td>\n",
       "      <td>N 44th St</td>\n",
       "      <td>43.094611</td>\n",
       "      <td>-87.968921</td>\n",
       "      <td>43.095039</td>\n",
       "      <td>-87.96893</td>\n",
       "      <td>LINESTRING (-87.96894 43.09462, -87.96893 43.0...</td>\n",
       "      <td>left</td>\n",
       "    </tr>\n",
       "  </tbody>\n",
       "</table>\n",
       "</div>"
      ],
      "text/plain": [
       "       segmentId directionInd       linearId streetName   startLat  startLong  \\\n",
       "20863      38027            W  1103676879311  N 44th St  43.094611 -87.968921   \n",
       "20863      38027            E  1103676879311  N 44th St  43.094611 -87.968921   \n",
       "\n",
       "          endLat   endLong                                            geoJson  \\\n",
       "20863  43.095039 -87.96893  LINESTRING (-87.96886 43.09461, -87.96885 43.0...   \n",
       "20863  43.095039 -87.96893  LINESTRING (-87.96894 43.09462, -87.96893 43.0...   \n",
       "\n",
       "      whichArcgisFile  \n",
       "20863           right  \n",
       "20863            left  "
      ]
     },
     "execution_count": 55,
     "metadata": {},
     "output_type": "execute_result"
    }
   ],
   "source": [
    "# gut check - for a given segmentId, there should be 2 rows, with OPPOSITE directionInd and whichArcgisFile,\n",
    "# SAME linearId/streetname/lats and longs, but DIFFERENT geoJson's\n",
    "df_to_load[df_to_load['segmentId']==38027]"
   ]
  },
  {
   "cell_type": "code",
   "execution_count": 28,
   "metadata": {
    "collapsed": true
   },
   "outputs": [],
   "source": [
    "import pymysql\n",
    "connection = pymysql.connect(host='aa6f8tcntjfd0z.c5625ddefrth.us-west-2.rds.amazonaws.com',\n",
    "                             port=3306,\n",
    "                             user=# ask Emily :) ,\n",
    "                             password= # ask Emily :) ,\n",
    "                             db='ebdb')\n",
    "cursor=connection.cursor()"
   ]
  },
  {
   "cell_type": "code",
   "execution_count": 77,
   "metadata": {},
   "outputs": [
    {
     "name": "stderr",
     "output_type": "stream",
     "text": [
      "/Users/emilyrapport/anaconda3/envs/capstone/lib/python3.7/site-packages/pymysql/cursors.py:170: Warning: (1264, \"Out of range value for column 'linearId' at row 1\")\n",
      "  result = self._query(query)\n",
      "/Users/emilyrapport/anaconda3/envs/capstone/lib/python3.7/site-packages/pymysql/cursors.py:170: Warning: (1264, \"Out of range value for column 'linearId' at row 1\")\n",
      "  result = self._query(query)\n"
     ]
    }
   ],
   "source": [
    "# NOTE: this method is way slow\n",
    "# will take over an hour to load in 40,000 rows this way \n",
    "# creating column list for insertion\n",
    "cols = \"`,`\".join([str(i) for i in df_to_load.columns.tolist()])\n",
    "\n",
    "# Insert DataFrame recrds one by one.\n",
    "for i,row in df_to_load.iterrows():\n",
    "    sql = \"INSERT INTO `sidewalk_segment2` (`\" +cols + \"`) VALUES (\" + \"%s,\"*(len(row)-1) + \"%s)\"\n",
    "    cursor.execute(sql, tuple(row))\n",
    "\n",
    "    # the connection is not autocommitted by default, so we must commit to save our changes\n",
    "    connection.commit()"
   ]
  },
  {
   "cell_type": "code",
   "execution_count": 72,
   "metadata": {
    "collapsed": true
   },
   "outputs": [],
   "source": [
    "### maybe the best thing to do for sqlite would just be to add some random test rows \n",
    "# through python/flask? rather than try to do this whole export thing"
   ]
  },
  {
   "cell_type": "code",
   "execution_count": null,
   "metadata": {
    "collapsed": true
   },
   "outputs": [],
   "source": []
  }
 ],
 "metadata": {
  "kernelspec": {
   "display_name": "Python 3",
   "language": "python",
   "name": "python3"
  },
  "language_info": {
   "codemirror_mode": {
    "name": "ipython",
    "version": 3
   },
   "file_extension": ".py",
   "mimetype": "text/x-python",
   "name": "python",
   "nbconvert_exporter": "python",
   "pygments_lexer": "ipython3",
   "version": "3.6.7"
  }
 },
 "nbformat": 4,
 "nbformat_minor": 2
}
